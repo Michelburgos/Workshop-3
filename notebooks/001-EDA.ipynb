{
 "cells": [
  {
   "cell_type": "markdown",
   "id": "2b1c3643",
   "metadata": {},
   "source": [
    "## Extraccion de los datos"
   ]
  },
  {
   "cell_type": "code",
   "execution_count": null,
   "id": "4a93eb78",
   "metadata": {
    "vscode": {
     "languageId": "plaintext"
    }
   },
   "outputs": [],
   "source": []
  }
 ],
 "metadata": {
  "language_info": {
   "name": "python"
  }
 },
 "nbformat": 4,
 "nbformat_minor": 5
}
