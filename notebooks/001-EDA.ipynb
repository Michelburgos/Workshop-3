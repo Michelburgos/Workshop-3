{
 "cells": [
  {
   "cell_type": "markdown",
   "id": "8a83592d",
   "metadata": {},
   "source": [
    "### Importación de bibliotecas necesarias"
   ]
  },
  {
   "cell_type": "code",
   "execution_count": 1,
   "id": "4a93eb78",
   "metadata": {},
   "outputs": [],
   "source": [
    "import pandas as pd\n",
    "import matplotlib.pyplot as plt\n",
    "import seaborn as sns"
   ]
  },
  {
   "cell_type": "markdown",
   "id": "2b1c3643",
   "metadata": {},
   "source": [
    "## Extraccion de los datos"
   ]
  },
  {
   "cell_type": "markdown",
   "id": "419813c3",
   "metadata": {},
   "source": [
    "### 2015"
   ]
  },
  {
   "cell_type": "code",
   "execution_count": 4,
   "id": "56926544",
   "metadata": {},
   "outputs": [
    {
     "name": "stdout",
     "output_type": "stream",
     "text": [
      "       Country          Region  Happiness Rank  Happiness Score  \\\n",
      "0  Switzerland  Western Europe               1            7.587   \n",
      "1      Iceland  Western Europe               2            7.561   \n",
      "2      Denmark  Western Europe               3            7.527   \n",
      "3       Norway  Western Europe               4            7.522   \n",
      "4       Canada   North America               5            7.427   \n",
      "\n",
      "   Standard Error  Economy (GDP per Capita)   Family  \\\n",
      "0         0.03411                   1.39651  1.34951   \n",
      "1         0.04884                   1.30232  1.40223   \n",
      "2         0.03328                   1.32548  1.36058   \n",
      "3         0.03880                   1.45900  1.33095   \n",
      "4         0.03553                   1.32629  1.32261   \n",
      "\n",
      "   Health (Life Expectancy)  Freedom  Trust (Government Corruption)  \\\n",
      "0                   0.94143  0.66557                        0.41978   \n",
      "1                   0.94784  0.62877                        0.14145   \n",
      "2                   0.87464  0.64938                        0.48357   \n",
      "3                   0.88521  0.66973                        0.36503   \n",
      "4                   0.90563  0.63297                        0.32957   \n",
      "\n",
      "   Generosity  Dystopia Residual  \n",
      "0     0.29678            2.51738  \n",
      "1     0.43630            2.70201  \n",
      "2     0.34139            2.49204  \n",
      "3     0.34699            2.46531  \n",
      "4     0.45811            2.45176  \n"
     ]
    }
   ],
   "source": [
    "df_2015 = pd.read_csv(\"../data/2015.csv\")\n",
    "print(df_2015.head())  \n"
   ]
  },
  {
   "cell_type": "code",
   "execution_count": 9,
   "id": "a73b6f82",
   "metadata": {},
   "outputs": [
    {
     "name": "stdout",
     "output_type": "stream",
     "text": [
      "<class 'pandas.core.frame.DataFrame'>\n",
      "RangeIndex: 158 entries, 0 to 157\n",
      "Data columns (total 12 columns):\n",
      " #   Column                         Non-Null Count  Dtype  \n",
      "---  ------                         --------------  -----  \n",
      " 0   Country                        158 non-null    object \n",
      " 1   Region                         158 non-null    object \n",
      " 2   Happiness Rank                 158 non-null    int64  \n",
      " 3   Happiness Score                158 non-null    float64\n",
      " 4   Standard Error                 158 non-null    float64\n",
      " 5   Economy (GDP per Capita)       158 non-null    float64\n",
      " 6   Family                         158 non-null    float64\n",
      " 7   Health (Life Expectancy)       158 non-null    float64\n",
      " 8   Freedom                        158 non-null    float64\n",
      " 9   Trust (Government Corruption)  158 non-null    float64\n",
      " 10  Generosity                     158 non-null    float64\n",
      " 11  Dystopia Residual              158 non-null    float64\n",
      "dtypes: float64(9), int64(1), object(2)\n",
      "memory usage: 14.9+ KB\n"
     ]
    }
   ],
   "source": [
    "df_2015.info()"
   ]
  },
  {
   "cell_type": "code",
   "execution_count": 10,
   "id": "d4a05af0",
   "metadata": {},
   "outputs": [
    {
     "name": "stdout",
     "output_type": "stream",
     "text": [
      "Valores nulos:\n",
      " Country                          0\n",
      "Region                           0\n",
      "Happiness Rank                   0\n",
      "Happiness Score                  0\n",
      "Standard Error                   0\n",
      "Economy (GDP per Capita)         0\n",
      "Family                           0\n",
      "Health (Life Expectancy)         0\n",
      "Freedom                          0\n",
      "Trust (Government Corruption)    0\n",
      "Generosity                       0\n",
      "Dystopia Residual                0\n",
      "dtype: int64\n"
     ]
    }
   ],
   "source": [
    "null_values= df_2015.isnull().sum()\n",
    "print(\"Valores nulos:\\n\", null_values)\n"
   ]
  },
  {
   "cell_type": "code",
   "execution_count": 11,
   "id": "4d875dc6",
   "metadata": {},
   "outputs": [
    {
     "name": "stdout",
     "output_type": "stream",
     "text": [
      "Empty DataFrame\n",
      "Columns: [Country, Region, Happiness Rank, Happiness Score, Standard Error, Economy (GDP per Capita), Family, Health (Life Expectancy), Freedom, Trust (Government Corruption), Generosity, Dystopia Residual]\n",
      "Index: []\n"
     ]
    }
   ],
   "source": [
    "duplicados = df_2015.duplicated()\n",
    "\n",
    "print(df_2015[duplicados])\n"
   ]
  },
  {
   "cell_type": "markdown",
   "id": "e8d16174",
   "metadata": {},
   "source": [
    "### 2016"
   ]
  },
  {
   "cell_type": "code",
   "execution_count": 5,
   "id": "9b4c7c5e",
   "metadata": {},
   "outputs": [
    {
     "name": "stdout",
     "output_type": "stream",
     "text": [
      "       Country          Region  Happiness Rank  Happiness Score  \\\n",
      "0      Denmark  Western Europe               1            7.526   \n",
      "1  Switzerland  Western Europe               2            7.509   \n",
      "2      Iceland  Western Europe               3            7.501   \n",
      "3       Norway  Western Europe               4            7.498   \n",
      "4      Finland  Western Europe               5            7.413   \n",
      "\n",
      "   Lower Confidence Interval  Upper Confidence Interval  \\\n",
      "0                      7.460                      7.592   \n",
      "1                      7.428                      7.590   \n",
      "2                      7.333                      7.669   \n",
      "3                      7.421                      7.575   \n",
      "4                      7.351                      7.475   \n",
      "\n",
      "   Economy (GDP per Capita)   Family  Health (Life Expectancy)  Freedom  \\\n",
      "0                   1.44178  1.16374                   0.79504  0.57941   \n",
      "1                   1.52733  1.14524                   0.86303  0.58557   \n",
      "2                   1.42666  1.18326                   0.86733  0.56624   \n",
      "3                   1.57744  1.12690                   0.79579  0.59609   \n",
      "4                   1.40598  1.13464                   0.81091  0.57104   \n",
      "\n",
      "   Trust (Government Corruption)  Generosity  Dystopia Residual  \n",
      "0                        0.44453     0.36171            2.73939  \n",
      "1                        0.41203     0.28083            2.69463  \n",
      "2                        0.14975     0.47678            2.83137  \n",
      "3                        0.35776     0.37895            2.66465  \n",
      "4                        0.41004     0.25492            2.82596  \n"
     ]
    }
   ],
   "source": [
    "df_2016 = pd.read_csv(\"../data/2016.csv\")\n",
    "print(df_2016.head())  \n"
   ]
  },
  {
   "cell_type": "code",
   "execution_count": 23,
   "id": "40406f81",
   "metadata": {},
   "outputs": [
    {
     "name": "stdout",
     "output_type": "stream",
     "text": [
      "<class 'pandas.core.frame.DataFrame'>\n",
      "RangeIndex: 157 entries, 0 to 156\n",
      "Data columns (total 13 columns):\n",
      " #   Column                         Non-Null Count  Dtype  \n",
      "---  ------                         --------------  -----  \n",
      " 0   Country                        157 non-null    object \n",
      " 1   Region                         157 non-null    object \n",
      " 2   Happiness Rank                 157 non-null    int64  \n",
      " 3   Happiness Score                157 non-null    float64\n",
      " 4   Lower Confidence Interval      157 non-null    float64\n",
      " 5   Upper Confidence Interval      157 non-null    float64\n",
      " 6   Economy (GDP per Capita)       157 non-null    float64\n",
      " 7   Family                         157 non-null    float64\n",
      " 8   Health (Life Expectancy)       157 non-null    float64\n",
      " 9   Freedom                        157 non-null    float64\n",
      " 10  Trust (Government Corruption)  157 non-null    float64\n",
      " 11  Generosity                     157 non-null    float64\n",
      " 12  Dystopia Residual              157 non-null    float64\n",
      "dtypes: float64(10), int64(1), object(2)\n",
      "memory usage: 16.1+ KB\n"
     ]
    }
   ],
   "source": [
    "df_2016.info()"
   ]
  },
  {
   "cell_type": "code",
   "execution_count": 12,
   "id": "7e54e4b7",
   "metadata": {},
   "outputs": [
    {
     "name": "stdout",
     "output_type": "stream",
     "text": [
      "Valores nulos:\n",
      " Country                          0\n",
      "Region                           0\n",
      "Happiness Rank                   0\n",
      "Happiness Score                  0\n",
      "Lower Confidence Interval        0\n",
      "Upper Confidence Interval        0\n",
      "Economy (GDP per Capita)         0\n",
      "Family                           0\n",
      "Health (Life Expectancy)         0\n",
      "Freedom                          0\n",
      "Trust (Government Corruption)    0\n",
      "Generosity                       0\n",
      "Dystopia Residual                0\n",
      "dtype: int64\n"
     ]
    }
   ],
   "source": [
    "null_values= df_2016.isnull().sum()\n",
    "print(\"Valores nulos:\\n\", null_values)"
   ]
  },
  {
   "cell_type": "code",
   "execution_count": 13,
   "id": "7d09e2da",
   "metadata": {},
   "outputs": [
    {
     "name": "stdout",
     "output_type": "stream",
     "text": [
      "Empty DataFrame\n",
      "Columns: [Country, Region, Happiness Rank, Happiness Score, Lower Confidence Interval, Upper Confidence Interval, Economy (GDP per Capita), Family, Health (Life Expectancy), Freedom, Trust (Government Corruption), Generosity, Dystopia Residual]\n",
      "Index: []\n"
     ]
    }
   ],
   "source": [
    "duplicados = df_2016.duplicated()\n",
    "\n",
    "print(df_2016[duplicados])\n"
   ]
  },
  {
   "cell_type": "markdown",
   "id": "67da4ee9",
   "metadata": {},
   "source": [
    "### 2017"
   ]
  },
  {
   "cell_type": "code",
   "execution_count": 6,
   "id": "aca4c57b",
   "metadata": {},
   "outputs": [
    {
     "name": "stdout",
     "output_type": "stream",
     "text": [
      "       Country  Happiness.Rank  Happiness.Score  Whisker.high  Whisker.low  \\\n",
      "0       Norway               1            7.537      7.594445     7.479556   \n",
      "1      Denmark               2            7.522      7.581728     7.462272   \n",
      "2      Iceland               3            7.504      7.622030     7.385970   \n",
      "3  Switzerland               4            7.494      7.561772     7.426227   \n",
      "4      Finland               5            7.469      7.527542     7.410458   \n",
      "\n",
      "   Economy..GDP.per.Capita.    Family  Health..Life.Expectancy.   Freedom  \\\n",
      "0                  1.616463  1.533524                  0.796667  0.635423   \n",
      "1                  1.482383  1.551122                  0.792566  0.626007   \n",
      "2                  1.480633  1.610574                  0.833552  0.627163   \n",
      "3                  1.564980  1.516912                  0.858131  0.620071   \n",
      "4                  1.443572  1.540247                  0.809158  0.617951   \n",
      "\n",
      "   Generosity  Trust..Government.Corruption.  Dystopia.Residual  \n",
      "0    0.362012                       0.315964           2.277027  \n",
      "1    0.355280                       0.400770           2.313707  \n",
      "2    0.475540                       0.153527           2.322715  \n",
      "3    0.290549                       0.367007           2.276716  \n",
      "4    0.245483                       0.382612           2.430182  \n"
     ]
    }
   ],
   "source": [
    "df_2017 = pd.read_csv(\"../data/2017.csv\")\n",
    "print(df_2017.head())  \n"
   ]
  },
  {
   "cell_type": "code",
   "execution_count": 25,
   "id": "a174991e",
   "metadata": {},
   "outputs": [
    {
     "name": "stdout",
     "output_type": "stream",
     "text": [
      "<class 'pandas.core.frame.DataFrame'>\n",
      "RangeIndex: 155 entries, 0 to 154\n",
      "Data columns (total 12 columns):\n",
      " #   Column                         Non-Null Count  Dtype  \n",
      "---  ------                         --------------  -----  \n",
      " 0   Country                        155 non-null    object \n",
      " 1   Happiness.Rank                 155 non-null    int64  \n",
      " 2   Happiness.Score                155 non-null    float64\n",
      " 3   Whisker.high                   155 non-null    float64\n",
      " 4   Whisker.low                    155 non-null    float64\n",
      " 5   Economy..GDP.per.Capita.       155 non-null    float64\n",
      " 6   Family                         155 non-null    float64\n",
      " 7   Health..Life.Expectancy.       155 non-null    float64\n",
      " 8   Freedom                        155 non-null    float64\n",
      " 9   Generosity                     155 non-null    float64\n",
      " 10  Trust..Government.Corruption.  155 non-null    float64\n",
      " 11  Dystopia.Residual              155 non-null    float64\n",
      "dtypes: float64(10), int64(1), object(1)\n",
      "memory usage: 14.7+ KB\n"
     ]
    }
   ],
   "source": [
    "df_2017.info()"
   ]
  },
  {
   "cell_type": "code",
   "execution_count": 14,
   "id": "8dca026d",
   "metadata": {},
   "outputs": [
    {
     "name": "stdout",
     "output_type": "stream",
     "text": [
      "Valores nulos:\n",
      " Country                          0\n",
      "Happiness.Rank                   0\n",
      "Happiness.Score                  0\n",
      "Whisker.high                     0\n",
      "Whisker.low                      0\n",
      "Economy..GDP.per.Capita.         0\n",
      "Family                           0\n",
      "Health..Life.Expectancy.         0\n",
      "Freedom                          0\n",
      "Generosity                       0\n",
      "Trust..Government.Corruption.    0\n",
      "Dystopia.Residual                0\n",
      "dtype: int64\n"
     ]
    }
   ],
   "source": [
    "null_values= df_2017.isnull().sum()\n",
    "print(\"Valores nulos:\\n\", null_values)"
   ]
  },
  {
   "cell_type": "code",
   "execution_count": 15,
   "id": "b0749a83",
   "metadata": {},
   "outputs": [
    {
     "name": "stdout",
     "output_type": "stream",
     "text": [
      "Empty DataFrame\n",
      "Columns: [Country, Happiness.Rank, Happiness.Score, Whisker.high, Whisker.low, Economy..GDP.per.Capita., Family, Health..Life.Expectancy., Freedom, Generosity, Trust..Government.Corruption., Dystopia.Residual]\n",
      "Index: []\n"
     ]
    }
   ],
   "source": [
    "duplicados = df_2017.duplicated()\n",
    "\n",
    "print(df_2017[duplicados])\n"
   ]
  },
  {
   "cell_type": "markdown",
   "id": "758f8acf",
   "metadata": {},
   "source": [
    "### 2018"
   ]
  },
  {
   "cell_type": "code",
   "execution_count": 7,
   "id": "61fc19fe",
   "metadata": {},
   "outputs": [
    {
     "name": "stdout",
     "output_type": "stream",
     "text": [
      "   Overall rank Country or region  Score  GDP per capita  Social support  \\\n",
      "0             1           Finland  7.632           1.305           1.592   \n",
      "1             2            Norway  7.594           1.456           1.582   \n",
      "2             3           Denmark  7.555           1.351           1.590   \n",
      "3             4           Iceland  7.495           1.343           1.644   \n",
      "4             5       Switzerland  7.487           1.420           1.549   \n",
      "\n",
      "   Healthy life expectancy  Freedom to make life choices  Generosity  \\\n",
      "0                    0.874                         0.681       0.202   \n",
      "1                    0.861                         0.686       0.286   \n",
      "2                    0.868                         0.683       0.284   \n",
      "3                    0.914                         0.677       0.353   \n",
      "4                    0.927                         0.660       0.256   \n",
      "\n",
      "   Perceptions of corruption  \n",
      "0                      0.393  \n",
      "1                      0.340  \n",
      "2                      0.408  \n",
      "3                      0.138  \n",
      "4                      0.357  \n"
     ]
    }
   ],
   "source": [
    "df_2018 = pd.read_csv(\"../data/2018.csv\")\n",
    "print(df_2018.head())  \n"
   ]
  },
  {
   "cell_type": "code",
   "execution_count": 26,
   "id": "42ca9224",
   "metadata": {},
   "outputs": [
    {
     "name": "stdout",
     "output_type": "stream",
     "text": [
      "<class 'pandas.core.frame.DataFrame'>\n",
      "RangeIndex: 155 entries, 0 to 154\n",
      "Data columns (total 9 columns):\n",
      " #   Column                        Non-Null Count  Dtype  \n",
      "---  ------                        --------------  -----  \n",
      " 0   Overall rank                  155 non-null    int64  \n",
      " 1   Country or region             155 non-null    object \n",
      " 2   Score                         155 non-null    float64\n",
      " 3   GDP per capita                155 non-null    float64\n",
      " 4   Social support                155 non-null    float64\n",
      " 5   Healthy life expectancy       155 non-null    float64\n",
      " 6   Freedom to make life choices  155 non-null    float64\n",
      " 7   Generosity                    155 non-null    float64\n",
      " 8   Perceptions of corruption     155 non-null    float64\n",
      "dtypes: float64(7), int64(1), object(1)\n",
      "memory usage: 11.0+ KB\n"
     ]
    }
   ],
   "source": [
    "df_2018.info()"
   ]
  },
  {
   "cell_type": "code",
   "execution_count": 16,
   "id": "b1dcc11d",
   "metadata": {},
   "outputs": [
    {
     "name": "stdout",
     "output_type": "stream",
     "text": [
      "Valores nulos:\n",
      " Overall rank                    0\n",
      "Country or region               0\n",
      "Score                           0\n",
      "GDP per capita                  0\n",
      "Social support                  0\n",
      "Healthy life expectancy         0\n",
      "Freedom to make life choices    0\n",
      "Generosity                      0\n",
      "Perceptions of corruption       1\n",
      "dtype: int64\n"
     ]
    }
   ],
   "source": [
    "null_values= df_2018.isnull().sum()\n",
    "print(\"Valores nulos:\\n\", null_values)"
   ]
  },
  {
   "cell_type": "code",
   "execution_count": 19,
   "id": "25eb89c6",
   "metadata": {},
   "outputs": [
    {
     "name": "stdout",
     "output_type": "stream",
     "text": [
      "Filas con valores nulos en 2018:\n",
      "    Overall rank     Country or region  Score  GDP per capita  Social support  \\\n",
      "19            20  United Arab Emirates  6.774           2.096           0.776   \n",
      "\n",
      "    Healthy life expectancy  Freedom to make life choices  Generosity  \\\n",
      "19                     0.67                         0.284       0.186   \n",
      "\n",
      "    Perceptions of corruption  \n",
      "19                        NaN  \n"
     ]
    }
   ],
   "source": [
    "# Mostrar filas con al menos un valor nulo en 2015\n",
    "null_rows = df_2018[df_2018.isnull().any(axis=1)]\n",
    "print(\"Filas con valores nulos en 2018:\")\n",
    "print(null_rows)"
   ]
  },
  {
   "cell_type": "code",
   "execution_count": 20,
   "id": "0db039a1",
   "metadata": {},
   "outputs": [],
   "source": [
    "df_2018 = (df_2018\n",
    "      .dropna()\n",
    "      .reset_index(drop=True))"
   ]
  },
  {
   "cell_type": "code",
   "execution_count": 21,
   "id": "4904ec25",
   "metadata": {},
   "outputs": [
    {
     "name": "stdout",
     "output_type": "stream",
     "text": [
      "Valores nulos:\n",
      " Overall rank                    0\n",
      "Country or region               0\n",
      "Score                           0\n",
      "GDP per capita                  0\n",
      "Social support                  0\n",
      "Healthy life expectancy         0\n",
      "Freedom to make life choices    0\n",
      "Generosity                      0\n",
      "Perceptions of corruption       0\n",
      "dtype: int64\n"
     ]
    }
   ],
   "source": [
    "null_values= df_2018.isnull().sum()\n",
    "print(\"Valores nulos:\\n\", null_values)"
   ]
  },
  {
   "cell_type": "code",
   "execution_count": 22,
   "id": "6b939e07",
   "metadata": {},
   "outputs": [
    {
     "name": "stdout",
     "output_type": "stream",
     "text": [
      "Empty DataFrame\n",
      "Columns: [Overall rank, Country or region, Score, GDP per capita, Social support, Healthy life expectancy, Freedom to make life choices, Generosity, Perceptions of corruption]\n",
      "Index: []\n"
     ]
    }
   ],
   "source": [
    "duplicados = df_2018.duplicated()\n",
    "\n",
    "print(df_2018[duplicados])"
   ]
  },
  {
   "cell_type": "markdown",
   "id": "32a3cc79",
   "metadata": {},
   "source": [
    "### 2019"
   ]
  },
  {
   "cell_type": "code",
   "execution_count": 8,
   "id": "d4a50822",
   "metadata": {},
   "outputs": [
    {
     "name": "stdout",
     "output_type": "stream",
     "text": [
      "   Overall rank Country or region  Score  GDP per capita  Social support  \\\n",
      "0             1           Finland  7.769           1.340           1.587   \n",
      "1             2           Denmark  7.600           1.383           1.573   \n",
      "2             3            Norway  7.554           1.488           1.582   \n",
      "3             4           Iceland  7.494           1.380           1.624   \n",
      "4             5       Netherlands  7.488           1.396           1.522   \n",
      "\n",
      "   Healthy life expectancy  Freedom to make life choices  Generosity  \\\n",
      "0                    0.986                         0.596       0.153   \n",
      "1                    0.996                         0.592       0.252   \n",
      "2                    1.028                         0.603       0.271   \n",
      "3                    1.026                         0.591       0.354   \n",
      "4                    0.999                         0.557       0.322   \n",
      "\n",
      "   Perceptions of corruption  \n",
      "0                      0.393  \n",
      "1                      0.410  \n",
      "2                      0.341  \n",
      "3                      0.118  \n",
      "4                      0.298  \n"
     ]
    }
   ],
   "source": [
    "df_2019 = pd.read_csv(\"../data/2019.csv\")\n",
    "print(df_2019.head())  \n"
   ]
  },
  {
   "cell_type": "code",
   "execution_count": 27,
   "id": "56f69d1f",
   "metadata": {},
   "outputs": [
    {
     "name": "stdout",
     "output_type": "stream",
     "text": [
      "<class 'pandas.core.frame.DataFrame'>\n",
      "RangeIndex: 156 entries, 0 to 155\n",
      "Data columns (total 9 columns):\n",
      " #   Column                        Non-Null Count  Dtype  \n",
      "---  ------                        --------------  -----  \n",
      " 0   Overall rank                  156 non-null    int64  \n",
      " 1   Country or region             156 non-null    object \n",
      " 2   Score                         156 non-null    float64\n",
      " 3   GDP per capita                156 non-null    float64\n",
      " 4   Social support                156 non-null    float64\n",
      " 5   Healthy life expectancy       156 non-null    float64\n",
      " 6   Freedom to make life choices  156 non-null    float64\n",
      " 7   Generosity                    156 non-null    float64\n",
      " 8   Perceptions of corruption     156 non-null    float64\n",
      "dtypes: float64(7), int64(1), object(1)\n",
      "memory usage: 11.1+ KB\n"
     ]
    }
   ],
   "source": [
    "df_2019.info()"
   ]
  },
  {
   "cell_type": "code",
   "execution_count": 28,
   "id": "c7daf551",
   "metadata": {},
   "outputs": [
    {
     "name": "stdout",
     "output_type": "stream",
     "text": [
      "Valores nulos:\n",
      " Overall rank                    0\n",
      "Country or region               0\n",
      "Score                           0\n",
      "GDP per capita                  0\n",
      "Social support                  0\n",
      "Healthy life expectancy         0\n",
      "Freedom to make life choices    0\n",
      "Generosity                      0\n",
      "Perceptions of corruption       0\n",
      "dtype: int64\n"
     ]
    }
   ],
   "source": [
    "null_values= df_2019.isnull().sum()\n",
    "print(\"Valores nulos:\\n\", null_values)"
   ]
  },
  {
   "cell_type": "code",
   "execution_count": 29,
   "id": "c1d86697",
   "metadata": {},
   "outputs": [
    {
     "name": "stdout",
     "output_type": "stream",
     "text": [
      "Empty DataFrame\n",
      "Columns: [Overall rank, Country or region, Score, GDP per capita, Social support, Healthy life expectancy, Freedom to make life choices, Generosity, Perceptions of corruption]\n",
      "Index: []\n"
     ]
    },
    {
     "name": "stderr",
     "output_type": "stream",
     "text": [
      "C:\\Users\\Michel Burgos\\AppData\\Local\\Temp\\ipykernel_8468\\4177628883.py:3: UserWarning: Boolean Series key will be reindexed to match DataFrame index.\n",
      "  print(df_2018[duplicados])\n"
     ]
    }
   ],
   "source": [
    "duplicados = df_2019.duplicated()\n",
    "\n",
    "print(df_2018[duplicados])"
   ]
  },
  {
   "cell_type": "markdown",
   "id": "bd57b72a",
   "metadata": {},
   "source": [
    "## Datos combinados "
   ]
  },
  {
   "cell_type": "code",
   "execution_count": 30,
   "id": "86bace93",
   "metadata": {},
   "outputs": [
    {
     "name": "stdout",
     "output_type": "stream",
     "text": [
      "Columnas 2015: ['Country', 'Region', 'Happiness Rank', 'Happiness Score', 'Standard Error', 'Economy (GDP per Capita)', 'Family', 'Health (Life Expectancy)', 'Freedom', 'Trust (Government Corruption)', 'Generosity', 'Dystopia Residual']\n",
      "Columnas 2016: ['Country', 'Region', 'Happiness Rank', 'Happiness Score', 'Lower Confidence Interval', 'Upper Confidence Interval', 'Economy (GDP per Capita)', 'Family', 'Health (Life Expectancy)', 'Freedom', 'Trust (Government Corruption)', 'Generosity', 'Dystopia Residual']\n",
      "Columnas 2017: ['Country', 'Happiness.Rank', 'Happiness.Score', 'Whisker.high', 'Whisker.low', 'Economy..GDP.per.Capita.', 'Family', 'Health..Life.Expectancy.', 'Freedom', 'Generosity', 'Trust..Government.Corruption.', 'Dystopia.Residual']\n",
      "Columnas 2018: ['Overall rank', 'Country or region', 'Score', 'GDP per capita', 'Social support', 'Healthy life expectancy', 'Freedom to make life choices', 'Generosity', 'Perceptions of corruption']\n",
      "Columnas 2019: ['Overall rank', 'Country or region', 'Score', 'GDP per capita', 'Social support', 'Healthy life expectancy', 'Freedom to make life choices', 'Generosity', 'Perceptions of corruption']\n"
     ]
    }
   ],
   "source": [
    "print('Columnas 2015:', df_2015.columns.tolist())\n",
    "print('Columnas 2016:', df_2016.columns.tolist())\n",
    "print('Columnas 2017:', df_2017.columns.tolist())\n",
    "print('Columnas 2018:', df_2018.columns.tolist())\n",
    "print('Columnas 2019:', df_2019.columns.tolist())"
   ]
  },
  {
   "cell_type": "code",
   "execution_count": 47,
   "id": "a9c9c3ca",
   "metadata": {},
   "outputs": [
    {
     "name": "stdout",
     "output_type": "stream",
     "text": [
      "Columnas 2015 (renombradas): ['Country_or_region', 'Region', 'Happiness_Rank', 'Happiness_Score', 'Standard Error', 'GDP_per_capita', 'Social_support', 'Healthy_life_expectancy', 'Freedom', 'Perceptions_of_corruption', 'Generosity', 'Dystopia Residual']\n",
      "Columnas 2016 (renombradas): ['Country_or_region', 'Region', 'Happiness_Rank', 'Happiness_Score', 'Lower Confidence Interval', 'Upper Confidence Interval', 'GDP_per_capita', 'Social_support', 'Healthy_life_expectancy', 'Freedom', 'Perceptions_of_corruption', 'Generosity', 'Dystopia Residual']\n",
      "Columnas 2017 (renombradas): ['Country_or_region', 'Happiness_Rank', 'Happiness_Score', 'Whisker.high', 'Whisker.low', 'GDP_per_capita', 'Social_support', 'Healthy_life_expectancy', 'Freedom', 'Generosity', 'Perceptions_of_corruption', 'Dystopia_Residual']\n",
      "Columnas 2018 (renombradas): ['Happiness_Rank', 'Country_or_region', 'Happiness_Score', 'GDP_per_capita', 'Social_support', 'Healthy_life_expectancy', 'Freedom', 'Generosity', 'Perceptions_of_corruption']\n",
      "Columnas 2019 (renombradas): ['Happiness_Rank', 'Country_or_region', 'Happiness_Score', 'GDP_per_capita', 'Social_support', 'Healthy_life_expectancy', 'Freedom', 'Generosity', 'Perceptions_of_corruption']\n"
     ]
    }
   ],
   "source": [
    "# Renombrar columnas\n",
    "df_2015 = df_2015.rename(columns={\n",
    "    'Country': 'Country_or_region',\n",
    "    'Family': 'Social_support',\n",
    "    'Happiness Rank': 'Happiness_Rank',\n",
    "    'Happiness Score': 'Happiness_Score',\n",
    "    'Economy (GDP per Capita)': 'GDP_per_capita',\n",
    "    'Health (Life Expectancy)': 'Healthy_life_expectancy',\n",
    "    'Trust (Government Corruption)': 'Perceptions_of_corruption'\n",
    "})\n",
    "df_2016 = df_2016.rename(columns={\n",
    "    'Country': 'Country_or_region',\n",
    "    'Family': 'Social_support',\n",
    "    'Happiness Rank': 'Happiness_Rank',\n",
    "    'Happiness Score': 'Happiness_Score',\n",
    "    'Economy (GDP per Capita)': 'GDP_per_capita',\n",
    "    'Health (Life Expectancy)': 'Healthy_life_expectancy',\n",
    "    'Trust (Government Corruption)': 'Perceptions_of_corruption'\n",
    "})\n",
    "df_2017 = df_2017.rename(columns={\n",
    "    'Country': 'Country_or_region',\n",
    "    'Happiness.Score': 'Happiness_Score',\n",
    "    'Family': 'Social_support',\n",
    "    'Happiness.Rank': 'Happiness_Rank',\n",
    "    'Economy..GDP.per.Capita.': 'GDP_per_capita',\n",
    "    'Health..Life.Expectancy.': 'Healthy_life_expectancy',\n",
    "    'Trust..Government.Corruption.': 'Perceptions_of_corruption',\n",
    "    'Dystopia.Residual': 'Dystopia_Residual'\n",
    "})\n",
    "df_2018 = df_2018.rename(columns={\n",
    "    'Country or region': 'Country_or_region',\n",
    "    'Score': 'Happiness_Score',\n",
    "    'Social support': 'Social_support',\n",
    "    'Overall rank': 'Happiness_Rank',\n",
    "    'GDP per capita': 'GDP_per_capita',\n",
    "    'Healthy life expectancy': 'Healthy_life_expectancy',\n",
    "    'Freedom to make life choices': 'Freedom',\n",
    "    'Perceptions of corruption': 'Perceptions_of_corruption'\n",
    "})\n",
    "df_2019 = df_2019.rename(columns={\n",
    "    'Country or region': 'Country_or_region',\n",
    "    'Social support': 'Social_support',\n",
    "    'Score': 'Happiness_Score',\n",
    "    'Overall rank': 'Happiness_Rank',\n",
    "    'GDP per capita': 'GDP_per_capita',\n",
    "    'Healthy life expectancy': 'Healthy_life_expectancy',\n",
    "    'Freedom to make life choices': 'Freedom',\n",
    "    'Perceptions of corruption': 'Perceptions_of_corruption'\n",
    "})\n",
    "\n",
    "# Verificar columnas renombradas\n",
    "print('Columnas 2015 (renombradas):', df_2015.columns.tolist())\n",
    "print('Columnas 2016 (renombradas):', df_2016.columns.tolist())\n",
    "print('Columnas 2017 (renombradas):', df_2017.columns.tolist())\n",
    "print('Columnas 2018 (renombradas):', df_2018.columns.tolist())\n",
    "print('Columnas 2019 (renombradas):', df_2019.columns.tolist())"
   ]
  },
  {
   "cell_type": "code",
   "execution_count": 48,
   "id": "0cb11489",
   "metadata": {},
   "outputs": [
    {
     "name": "stdout",
     "output_type": "stream",
     "text": [
      "Columnas comunes: ['Freedom', 'Generosity', 'Happiness_Rank', 'Country_or_region', 'Perceptions_of_corruption', 'GDP_per_capita', 'Healthy_life_expectancy', 'Happiness_Score', 'Social_support']\n"
     ]
    }
   ],
   "source": [
    "# Encontrar columnas comunes\n",
    "common_columns = list(set(df_2015.columns) & set(df_2016.columns) & set(df_2017.columns) & \n",
    "                      set(df_2018.columns) & set(df_2019.columns))\n",
    "print('Columnas comunes:', common_columns)\n",
    "\n"
   ]
  },
  {
   "cell_type": "code",
   "execution_count": 50,
   "id": "758e32c5",
   "metadata": {},
   "outputs": [
    {
     "name": "stdout",
     "output_type": "stream",
     "text": [
      "   Freedom  Generosity  Happiness_Rank Country_or_region  \\\n",
      "0  0.66557     0.29678               1       Switzerland   \n",
      "1  0.62877     0.43630               2           Iceland   \n",
      "2  0.64938     0.34139               3           Denmark   \n",
      "3  0.66973     0.34699               4            Norway   \n",
      "4  0.63297     0.45811               5            Canada   \n",
      "\n",
      "   Perceptions_of_corruption  GDP_per_capita  Healthy_life_expectancy  \\\n",
      "0                    0.41978         1.39651                  0.94143   \n",
      "1                    0.14145         1.30232                  0.94784   \n",
      "2                    0.48357         1.32548                  0.87464   \n",
      "3                    0.36503         1.45900                  0.88521   \n",
      "4                    0.32957         1.32629                  0.90563   \n",
      "\n",
      "   Happiness_Score  Social_support  Year  \n",
      "0            7.587         1.34951  2015  \n",
      "1            7.561         1.40223  2015  \n",
      "2            7.527         1.36058  2015  \n",
      "3            7.522         1.33095  2015  \n",
      "4            7.427         1.32261  2015  \n"
     ]
    }
   ],
   "source": [
    "# Agregar columna de año\n",
    "df_2015['Year'] = 2015\n",
    "df_2016['Year'] = 2016\n",
    "df_2017['Year'] = 2017\n",
    "df_2018['Year'] = 2018\n",
    "df_2019['Year'] = 2019\n",
    "\n",
    "selected_features =  ['Freedom', 'Generosity', 'Happiness_Rank', 'Country_or_region', 'Perceptions_of_corruption', 'GDP_per_capita', 'Healthy_life_expectancy', 'Happiness_Score', 'Social_support']\n",
    "\n",
    "# Combinar DataFrames\n",
    "df = pd.concat([\n",
    "    df_2015[selected_features + ['Year']],\n",
    "    df_2016[selected_features + ['Year']],\n",
    "    df_2017[selected_features + ['Year']],\n",
    "    df_2018[selected_features + ['Year']],\n",
    "    df_2019[selected_features + ['Year']]\n",
    "], ignore_index=True)\n",
    "\n",
    "# Guardar datos combinados\n",
    "print(df.head())"
   ]
  },
  {
   "cell_type": "code",
   "execution_count": 51,
   "id": "87b80466",
   "metadata": {},
   "outputs": [
    {
     "name": "stdout",
     "output_type": "stream",
     "text": [
      "Valores nulos:\n",
      " Freedom                      0\n",
      "Generosity                   0\n",
      "Happiness_Rank               0\n",
      "Country_or_region            0\n",
      "Perceptions_of_corruption    0\n",
      "GDP_per_capita               0\n",
      "Healthy_life_expectancy      0\n",
      "Happiness_Score              0\n",
      "Social_support               0\n",
      "Year                         0\n",
      "dtype: int64\n"
     ]
    }
   ],
   "source": [
    "null_values= df.isnull().sum()\n",
    "print(\"Valores nulos:\\n\", null_values)"
   ]
  },
  {
   "cell_type": "code",
   "execution_count": 53,
   "id": "cc5cf3d8",
   "metadata": {},
   "outputs": [
    {
     "name": "stdout",
     "output_type": "stream",
     "text": [
      "Empty DataFrame\n",
      "Columns: [Freedom, Generosity, Happiness_Rank, Country_or_region, Perceptions_of_corruption, GDP_per_capita, Healthy_life_expectancy, Happiness_Score, Social_support, Year]\n",
      "Index: []\n"
     ]
    }
   ],
   "source": [
    "duplicados = df.duplicated()\n",
    "\n",
    "print(df[duplicados])"
   ]
  },
  {
   "cell_type": "code",
   "execution_count": 52,
   "id": "eb5de2ba",
   "metadata": {},
   "outputs": [
    {
     "data": {
      "text/html": [
       "<div>\n",
       "<style scoped>\n",
       "    .dataframe tbody tr th:only-of-type {\n",
       "        vertical-align: middle;\n",
       "    }\n",
       "\n",
       "    .dataframe tbody tr th {\n",
       "        vertical-align: top;\n",
       "    }\n",
       "\n",
       "    .dataframe thead th {\n",
       "        text-align: right;\n",
       "    }\n",
       "</style>\n",
       "<table border=\"1\" class=\"dataframe\">\n",
       "  <thead>\n",
       "    <tr style=\"text-align: right;\">\n",
       "      <th></th>\n",
       "      <th>Freedom</th>\n",
       "      <th>Generosity</th>\n",
       "      <th>Happiness_Rank</th>\n",
       "      <th>Perceptions_of_corruption</th>\n",
       "      <th>GDP_per_capita</th>\n",
       "      <th>Healthy_life_expectancy</th>\n",
       "      <th>Happiness_Score</th>\n",
       "      <th>Social_support</th>\n",
       "      <th>Year</th>\n",
       "    </tr>\n",
       "  </thead>\n",
       "  <tbody>\n",
       "    <tr>\n",
       "      <th>count</th>\n",
       "      <td>781.000000</td>\n",
       "      <td>781.000000</td>\n",
       "      <td>781.000000</td>\n",
       "      <td>781.000000</td>\n",
       "      <td>781.000000</td>\n",
       "      <td>781.000000</td>\n",
       "      <td>781.000000</td>\n",
       "      <td>781.000000</td>\n",
       "      <td>781.000000</td>\n",
       "    </tr>\n",
       "    <tr>\n",
       "      <th>mean</th>\n",
       "      <td>0.411254</td>\n",
       "      <td>0.218618</td>\n",
       "      <td>78.773367</td>\n",
       "      <td>0.125436</td>\n",
       "      <td>0.914537</td>\n",
       "      <td>0.612342</td>\n",
       "      <td>5.377232</td>\n",
       "      <td>1.078780</td>\n",
       "      <td>2016.992318</td>\n",
       "    </tr>\n",
       "    <tr>\n",
       "      <th>std</th>\n",
       "      <td>0.152911</td>\n",
       "      <td>0.122394</td>\n",
       "      <td>45.162398</td>\n",
       "      <td>0.105816</td>\n",
       "      <td>0.405403</td>\n",
       "      <td>0.248459</td>\n",
       "      <td>1.127071</td>\n",
       "      <td>0.329581</td>\n",
       "      <td>1.417814</td>\n",
       "    </tr>\n",
       "    <tr>\n",
       "      <th>min</th>\n",
       "      <td>0.000000</td>\n",
       "      <td>0.000000</td>\n",
       "      <td>1.000000</td>\n",
       "      <td>0.000000</td>\n",
       "      <td>0.000000</td>\n",
       "      <td>0.000000</td>\n",
       "      <td>2.693000</td>\n",
       "      <td>0.000000</td>\n",
       "      <td>2015.000000</td>\n",
       "    </tr>\n",
       "    <tr>\n",
       "      <th>25%</th>\n",
       "      <td>0.310480</td>\n",
       "      <td>0.130000</td>\n",
       "      <td>40.000000</td>\n",
       "      <td>0.054000</td>\n",
       "      <td>0.605000</td>\n",
       "      <td>0.440060</td>\n",
       "      <td>4.509000</td>\n",
       "      <td>0.870210</td>\n",
       "      <td>2016.000000</td>\n",
       "    </tr>\n",
       "    <tr>\n",
       "      <th>50%</th>\n",
       "      <td>0.431000</td>\n",
       "      <td>0.202000</td>\n",
       "      <td>79.000000</td>\n",
       "      <td>0.091000</td>\n",
       "      <td>0.982000</td>\n",
       "      <td>0.647239</td>\n",
       "      <td>5.321000</td>\n",
       "      <td>1.125000</td>\n",
       "      <td>2017.000000</td>\n",
       "    </tr>\n",
       "    <tr>\n",
       "      <th>75%</th>\n",
       "      <td>0.531000</td>\n",
       "      <td>0.279060</td>\n",
       "      <td>118.000000</td>\n",
       "      <td>0.156030</td>\n",
       "      <td>1.233748</td>\n",
       "      <td>0.808000</td>\n",
       "      <td>6.182000</td>\n",
       "      <td>1.328000</td>\n",
       "      <td>2018.000000</td>\n",
       "    </tr>\n",
       "    <tr>\n",
       "      <th>max</th>\n",
       "      <td>0.724000</td>\n",
       "      <td>0.838075</td>\n",
       "      <td>158.000000</td>\n",
       "      <td>0.551910</td>\n",
       "      <td>1.870766</td>\n",
       "      <td>1.141000</td>\n",
       "      <td>7.769000</td>\n",
       "      <td>1.644000</td>\n",
       "      <td>2019.000000</td>\n",
       "    </tr>\n",
       "  </tbody>\n",
       "</table>\n",
       "</div>"
      ],
      "text/plain": [
       "          Freedom  Generosity  Happiness_Rank  Perceptions_of_corruption  \\\n",
       "count  781.000000  781.000000      781.000000                 781.000000   \n",
       "mean     0.411254    0.218618       78.773367                   0.125436   \n",
       "std      0.152911    0.122394       45.162398                   0.105816   \n",
       "min      0.000000    0.000000        1.000000                   0.000000   \n",
       "25%      0.310480    0.130000       40.000000                   0.054000   \n",
       "50%      0.431000    0.202000       79.000000                   0.091000   \n",
       "75%      0.531000    0.279060      118.000000                   0.156030   \n",
       "max      0.724000    0.838075      158.000000                   0.551910   \n",
       "\n",
       "       GDP_per_capita  Healthy_life_expectancy  Happiness_Score  \\\n",
       "count      781.000000               781.000000       781.000000   \n",
       "mean         0.914537                 0.612342         5.377232   \n",
       "std          0.405403                 0.248459         1.127071   \n",
       "min          0.000000                 0.000000         2.693000   \n",
       "25%          0.605000                 0.440060         4.509000   \n",
       "50%          0.982000                 0.647239         5.321000   \n",
       "75%          1.233748                 0.808000         6.182000   \n",
       "max          1.870766                 1.141000         7.769000   \n",
       "\n",
       "       Social_support         Year  \n",
       "count      781.000000   781.000000  \n",
       "mean         1.078780  2016.992318  \n",
       "std          0.329581     1.417814  \n",
       "min          0.000000  2015.000000  \n",
       "25%          0.870210  2016.000000  \n",
       "50%          1.125000  2017.000000  \n",
       "75%          1.328000  2018.000000  \n",
       "max          1.644000  2019.000000  "
      ]
     },
     "execution_count": 52,
     "metadata": {},
     "output_type": "execute_result"
    }
   ],
   "source": [
    "df.describe()"
   ]
  }
 ],
 "metadata": {
  "kernelspec": {
   "display_name": "venv",
   "language": "python",
   "name": "venv"
  },
  "language_info": {
   "codemirror_mode": {
    "name": "ipython",
    "version": 3
   },
   "file_extension": ".py",
   "mimetype": "text/x-python",
   "name": "python",
   "nbconvert_exporter": "python",
   "pygments_lexer": "ipython3",
   "version": "3.11.4"
  }
 },
 "nbformat": 4,
 "nbformat_minor": 5
}
