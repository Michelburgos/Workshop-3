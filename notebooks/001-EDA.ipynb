{
 "cells": [
  {
   "cell_type": "markdown",
   "id": "8a83592d",
   "metadata": {},
   "source": [
    "### Importación de bibliotecas necesarias"
   ]
  },
  {
   "cell_type": "code",
   "execution_count": 215,
   "id": "4a93eb78",
   "metadata": {},
   "outputs": [],
   "source": [
    "import pandas as pd\n",
    "import matplotlib.pyplot as plt\n",
    "import seaborn as sns\n",
    "from scipy.stats import boxcox"
   ]
  },
  {
   "cell_type": "markdown",
   "id": "2b1c3643",
   "metadata": {},
   "source": [
    "## Extraccion de los datos"
   ]
  },
  {
   "cell_type": "markdown",
   "id": "419813c3",
   "metadata": {},
   "source": [
    "### 2015"
   ]
  },
  {
   "cell_type": "code",
   "execution_count": 619,
   "id": "56926544",
   "metadata": {},
   "outputs": [
    {
     "name": "stdout",
     "output_type": "stream",
     "text": [
      "       Country          Region  Happiness Rank  Happiness Score  \\\n",
      "0  Switzerland  Western Europe               1            7.587   \n",
      "1      Iceland  Western Europe               2            7.561   \n",
      "2      Denmark  Western Europe               3            7.527   \n",
      "3       Norway  Western Europe               4            7.522   \n",
      "4       Canada   North America               5            7.427   \n",
      "\n",
      "   Standard Error  Economy (GDP per Capita)   Family  \\\n",
      "0         0.03411                   1.39651  1.34951   \n",
      "1         0.04884                   1.30232  1.40223   \n",
      "2         0.03328                   1.32548  1.36058   \n",
      "3         0.03880                   1.45900  1.33095   \n",
      "4         0.03553                   1.32629  1.32261   \n",
      "\n",
      "   Health (Life Expectancy)  Freedom  Trust (Government Corruption)  \\\n",
      "0                   0.94143  0.66557                        0.41978   \n",
      "1                   0.94784  0.62877                        0.14145   \n",
      "2                   0.87464  0.64938                        0.48357   \n",
      "3                   0.88521  0.66973                        0.36503   \n",
      "4                   0.90563  0.63297                        0.32957   \n",
      "\n",
      "   Generosity  Dystopia Residual  \n",
      "0     0.29678            2.51738  \n",
      "1     0.43630            2.70201  \n",
      "2     0.34139            2.49204  \n",
      "3     0.34699            2.46531  \n",
      "4     0.45811            2.45176  \n"
     ]
    }
   ],
   "source": [
    "df_2015 = pd.read_csv(\"../data/2015.csv\")\n",
    "print(df_2015.head())  \n"
   ]
  },
  {
   "cell_type": "code",
   "execution_count": 620,
   "id": "7bdb98c1",
   "metadata": {},
   "outputs": [
    {
     "data": {
      "text/plain": [
       "array(['Western Europe', 'North America', 'Australia and New Zealand',\n",
       "       'Middle East and Northern Africa', 'Latin America and Caribbean',\n",
       "       'Southeastern Asia', 'Central and Eastern Europe', 'Eastern Asia',\n",
       "       'Sub-Saharan Africa', 'Southern Asia'], dtype=object)"
      ]
     },
     "execution_count": 620,
     "metadata": {},
     "output_type": "execute_result"
    }
   ],
   "source": [
    "df_2015['Region'].unique()"
   ]
  },
  {
   "cell_type": "code",
   "execution_count": 621,
   "id": "2a234ff4",
   "metadata": {},
   "outputs": [
    {
     "data": {
      "text/plain": [
       "array(['Switzerland', 'Iceland', 'Denmark', 'Norway', 'Canada', 'Finland',\n",
       "       'Netherlands', 'Sweden', 'New Zealand', 'Australia', 'Israel',\n",
       "       'Costa Rica', 'Austria', 'Mexico', 'United States', 'Brazil',\n",
       "       'Luxembourg', 'Ireland', 'Belgium', 'United Arab Emirates',\n",
       "       'United Kingdom', 'Oman', 'Venezuela', 'Singapore', 'Panama',\n",
       "       'Germany', 'Chile', 'Qatar', 'France', 'Argentina',\n",
       "       'Czech Republic', 'Uruguay', 'Colombia', 'Thailand',\n",
       "       'Saudi Arabia', 'Spain', 'Malta', 'Taiwan', 'Kuwait', 'Suriname',\n",
       "       'Trinidad and Tobago', 'El Salvador', 'Guatemala', 'Uzbekistan',\n",
       "       'Slovakia', 'Japan', 'South Korea', 'Ecuador', 'Bahrain', 'Italy',\n",
       "       'Bolivia', 'Moldova', 'Paraguay', 'Kazakhstan', 'Slovenia',\n",
       "       'Lithuania', 'Nicaragua', 'Peru', 'Belarus', 'Poland', 'Malaysia',\n",
       "       'Croatia', 'Libya', 'Russia', 'Jamaica', 'North Cyprus', 'Cyprus',\n",
       "       'Algeria', 'Kosovo', 'Turkmenistan', 'Mauritius', 'Hong Kong',\n",
       "       'Estonia', 'Indonesia', 'Vietnam', 'Turkey', 'Kyrgyzstan',\n",
       "       'Nigeria', 'Bhutan', 'Azerbaijan', 'Pakistan', 'Jordan',\n",
       "       'Montenegro', 'China', 'Zambia', 'Romania', 'Serbia', 'Portugal',\n",
       "       'Latvia', 'Philippines', 'Somaliland region', 'Morocco',\n",
       "       'Macedonia', 'Mozambique', 'Albania', 'Bosnia and Herzegovina',\n",
       "       'Lesotho', 'Dominican Republic', 'Laos', 'Mongolia', 'Swaziland',\n",
       "       'Greece', 'Lebanon', 'Hungary', 'Honduras', 'Tajikistan',\n",
       "       'Tunisia', 'Palestinian Territories', 'Bangladesh', 'Iran',\n",
       "       'Ukraine', 'Iraq', 'South Africa', 'Ghana', 'Zimbabwe', 'Liberia',\n",
       "       'India', 'Sudan', 'Haiti', 'Congo (Kinshasa)', 'Nepal', 'Ethiopia',\n",
       "       'Sierra Leone', 'Mauritania', 'Kenya', 'Djibouti', 'Armenia',\n",
       "       'Botswana', 'Myanmar', 'Georgia', 'Malawi', 'Sri Lanka',\n",
       "       'Cameroon', 'Bulgaria', 'Egypt', 'Yemen', 'Angola', 'Mali',\n",
       "       'Congo (Brazzaville)', 'Comoros', 'Uganda', 'Senegal', 'Gabon',\n",
       "       'Niger', 'Cambodia', 'Tanzania', 'Madagascar',\n",
       "       'Central African Republic', 'Chad', 'Guinea', 'Ivory Coast',\n",
       "       'Burkina Faso', 'Afghanistan', 'Rwanda', 'Benin', 'Syria',\n",
       "       'Burundi', 'Togo'], dtype=object)"
      ]
     },
     "execution_count": 621,
     "metadata": {},
     "output_type": "execute_result"
    }
   ],
   "source": [
    "df_2015['Country'].unique()"
   ]
  },
  {
   "cell_type": "code",
   "execution_count": 622,
   "id": "a73b6f82",
   "metadata": {},
   "outputs": [
    {
     "name": "stdout",
     "output_type": "stream",
     "text": [
      "<class 'pandas.core.frame.DataFrame'>\n",
      "RangeIndex: 158 entries, 0 to 157\n",
      "Data columns (total 12 columns):\n",
      " #   Column                         Non-Null Count  Dtype  \n",
      "---  ------                         --------------  -----  \n",
      " 0   Country                        158 non-null    object \n",
      " 1   Region                         158 non-null    object \n",
      " 2   Happiness Rank                 158 non-null    int64  \n",
      " 3   Happiness Score                158 non-null    float64\n",
      " 4   Standard Error                 158 non-null    float64\n",
      " 5   Economy (GDP per Capita)       158 non-null    float64\n",
      " 6   Family                         158 non-null    float64\n",
      " 7   Health (Life Expectancy)       158 non-null    float64\n",
      " 8   Freedom                        158 non-null    float64\n",
      " 9   Trust (Government Corruption)  158 non-null    float64\n",
      " 10  Generosity                     158 non-null    float64\n",
      " 11  Dystopia Residual              158 non-null    float64\n",
      "dtypes: float64(9), int64(1), object(2)\n",
      "memory usage: 14.9+ KB\n"
     ]
    }
   ],
   "source": [
    "df_2015.info()"
   ]
  },
  {
   "cell_type": "code",
   "execution_count": 623,
   "id": "f00a3f01",
   "metadata": {},
   "outputs": [
    {
     "data": {
      "text/html": [
       "<div>\n",
       "<style scoped>\n",
       "    .dataframe tbody tr th:only-of-type {\n",
       "        vertical-align: middle;\n",
       "    }\n",
       "\n",
       "    .dataframe tbody tr th {\n",
       "        vertical-align: top;\n",
       "    }\n",
       "\n",
       "    .dataframe thead th {\n",
       "        text-align: right;\n",
       "    }\n",
       "</style>\n",
       "<table border=\"1\" class=\"dataframe\">\n",
       "  <thead>\n",
       "    <tr style=\"text-align: right;\">\n",
       "      <th></th>\n",
       "      <th>Country</th>\n",
       "      <th>Region</th>\n",
       "      <th>Happiness Rank</th>\n",
       "      <th>Happiness Score</th>\n",
       "      <th>Standard Error</th>\n",
       "      <th>Economy (GDP per Capita)</th>\n",
       "      <th>Family</th>\n",
       "      <th>Health (Life Expectancy)</th>\n",
       "      <th>Freedom</th>\n",
       "      <th>Trust (Government Corruption)</th>\n",
       "      <th>Generosity</th>\n",
       "      <th>Dystopia Residual</th>\n",
       "    </tr>\n",
       "  </thead>\n",
       "  <tbody>\n",
       "    <tr>\n",
       "      <th>55</th>\n",
       "      <td>Lithuania</td>\n",
       "      <td>Central and Eastern Europe</td>\n",
       "      <td>56</td>\n",
       "      <td>5.833</td>\n",
       "      <td>0.03843</td>\n",
       "      <td>1.14723</td>\n",
       "      <td>1.25745</td>\n",
       "      <td>0.73128</td>\n",
       "      <td>0.21342</td>\n",
       "      <td>0.01031</td>\n",
       "      <td>0.02641</td>\n",
       "      <td>2.44649</td>\n",
       "    </tr>\n",
       "  </tbody>\n",
       "</table>\n",
       "</div>"
      ],
      "text/plain": [
       "      Country                      Region  Happiness Rank  Happiness Score  \\\n",
       "55  Lithuania  Central and Eastern Europe              56            5.833   \n",
       "\n",
       "    Standard Error  Economy (GDP per Capita)   Family  \\\n",
       "55         0.03843                   1.14723  1.25745   \n",
       "\n",
       "    Health (Life Expectancy)  Freedom  Trust (Government Corruption)  \\\n",
       "55                   0.73128  0.21342                        0.01031   \n",
       "\n",
       "    Generosity  Dystopia Residual  \n",
       "55     0.02641            2.44649  "
      ]
     },
     "execution_count": 623,
     "metadata": {},
     "output_type": "execute_result"
    }
   ],
   "source": [
    "df_2015[df_2015['Country'] == 'Lithuania']\n"
   ]
  },
  {
   "cell_type": "code",
   "execution_count": 624,
   "id": "d4a05af0",
   "metadata": {},
   "outputs": [
    {
     "name": "stdout",
     "output_type": "stream",
     "text": [
      "Valores nulos:\n",
      " Country                          0\n",
      "Region                           0\n",
      "Happiness Rank                   0\n",
      "Happiness Score                  0\n",
      "Standard Error                   0\n",
      "Economy (GDP per Capita)         0\n",
      "Family                           0\n",
      "Health (Life Expectancy)         0\n",
      "Freedom                          0\n",
      "Trust (Government Corruption)    0\n",
      "Generosity                       0\n",
      "Dystopia Residual                0\n",
      "dtype: int64\n"
     ]
    }
   ],
   "source": [
    "null_values= df_2015.isnull().sum()\n",
    "print(\"Valores nulos:\\n\", null_values)\n"
   ]
  },
  {
   "cell_type": "code",
   "execution_count": 625,
   "id": "4d875dc6",
   "metadata": {},
   "outputs": [
    {
     "name": "stdout",
     "output_type": "stream",
     "text": [
      "Empty DataFrame\n",
      "Columns: [Country, Region, Happiness Rank, Happiness Score, Standard Error, Economy (GDP per Capita), Family, Health (Life Expectancy), Freedom, Trust (Government Corruption), Generosity, Dystopia Residual]\n",
      "Index: []\n"
     ]
    }
   ],
   "source": [
    "duplicados = df_2015.duplicated()\n",
    "\n",
    "print(df_2015[duplicados])\n"
   ]
  },
  {
   "cell_type": "markdown",
   "id": "e8d16174",
   "metadata": {},
   "source": [
    "### 2016"
   ]
  },
  {
   "cell_type": "code",
   "execution_count": 626,
   "id": "9b4c7c5e",
   "metadata": {},
   "outputs": [
    {
     "name": "stdout",
     "output_type": "stream",
     "text": [
      "       Country          Region  Happiness Rank  Happiness Score  \\\n",
      "0      Denmark  Western Europe               1            7.526   \n",
      "1  Switzerland  Western Europe               2            7.509   \n",
      "2      Iceland  Western Europe               3            7.501   \n",
      "3       Norway  Western Europe               4            7.498   \n",
      "4      Finland  Western Europe               5            7.413   \n",
      "\n",
      "   Lower Confidence Interval  Upper Confidence Interval  \\\n",
      "0                      7.460                      7.592   \n",
      "1                      7.428                      7.590   \n",
      "2                      7.333                      7.669   \n",
      "3                      7.421                      7.575   \n",
      "4                      7.351                      7.475   \n",
      "\n",
      "   Economy (GDP per Capita)   Family  Health (Life Expectancy)  Freedom  \\\n",
      "0                   1.44178  1.16374                   0.79504  0.57941   \n",
      "1                   1.52733  1.14524                   0.86303  0.58557   \n",
      "2                   1.42666  1.18326                   0.86733  0.56624   \n",
      "3                   1.57744  1.12690                   0.79579  0.59609   \n",
      "4                   1.40598  1.13464                   0.81091  0.57104   \n",
      "\n",
      "   Trust (Government Corruption)  Generosity  Dystopia Residual  \n",
      "0                        0.44453     0.36171            2.73939  \n",
      "1                        0.41203     0.28083            2.69463  \n",
      "2                        0.14975     0.47678            2.83137  \n",
      "3                        0.35776     0.37895            2.66465  \n",
      "4                        0.41004     0.25492            2.82596  \n"
     ]
    }
   ],
   "source": [
    "df_2016 = pd.read_csv(\"../data/2016.csv\")\n",
    "print(df_2016.head())  \n"
   ]
  },
  {
   "cell_type": "code",
   "execution_count": 627,
   "id": "40406f81",
   "metadata": {},
   "outputs": [
    {
     "name": "stdout",
     "output_type": "stream",
     "text": [
      "<class 'pandas.core.frame.DataFrame'>\n",
      "RangeIndex: 157 entries, 0 to 156\n",
      "Data columns (total 13 columns):\n",
      " #   Column                         Non-Null Count  Dtype  \n",
      "---  ------                         --------------  -----  \n",
      " 0   Country                        157 non-null    object \n",
      " 1   Region                         157 non-null    object \n",
      " 2   Happiness Rank                 157 non-null    int64  \n",
      " 3   Happiness Score                157 non-null    float64\n",
      " 4   Lower Confidence Interval      157 non-null    float64\n",
      " 5   Upper Confidence Interval      157 non-null    float64\n",
      " 6   Economy (GDP per Capita)       157 non-null    float64\n",
      " 7   Family                         157 non-null    float64\n",
      " 8   Health (Life Expectancy)       157 non-null    float64\n",
      " 9   Freedom                        157 non-null    float64\n",
      " 10  Trust (Government Corruption)  157 non-null    float64\n",
      " 11  Generosity                     157 non-null    float64\n",
      " 12  Dystopia Residual              157 non-null    float64\n",
      "dtypes: float64(10), int64(1), object(2)\n",
      "memory usage: 16.1+ KB\n"
     ]
    }
   ],
   "source": [
    "df_2016.info()"
   ]
  },
  {
   "cell_type": "code",
   "execution_count": 628,
   "id": "e19f9ee4",
   "metadata": {},
   "outputs": [
    {
     "data": {
      "text/plain": [
       "array(['Denmark', 'Switzerland', 'Iceland', 'Norway', 'Finland', 'Canada',\n",
       "       'Netherlands', 'New Zealand', 'Australia', 'Sweden', 'Israel',\n",
       "       'Austria', 'United States', 'Costa Rica', 'Puerto Rico', 'Germany',\n",
       "       'Brazil', 'Belgium', 'Ireland', 'Luxembourg', 'Mexico',\n",
       "       'Singapore', 'United Kingdom', 'Chile', 'Panama', 'Argentina',\n",
       "       'Czech Republic', 'United Arab Emirates', 'Uruguay', 'Malta',\n",
       "       'Colombia', 'France', 'Thailand', 'Saudi Arabia', 'Taiwan',\n",
       "       'Qatar', 'Spain', 'Algeria', 'Guatemala', 'Suriname', 'Kuwait',\n",
       "       'Bahrain', 'Trinidad and Tobago', 'Venezuela', 'Slovakia',\n",
       "       'El Salvador', 'Malaysia', 'Nicaragua', 'Uzbekistan', 'Italy',\n",
       "       'Ecuador', 'Belize', 'Japan', 'Kazakhstan', 'Moldova', 'Russia',\n",
       "       'Poland', 'South Korea', 'Bolivia', 'Lithuania', 'Belarus',\n",
       "       'North Cyprus', 'Slovenia', 'Peru', 'Turkmenistan', 'Mauritius',\n",
       "       'Libya', 'Latvia', 'Cyprus', 'Paraguay', 'Romania', 'Estonia',\n",
       "       'Jamaica', 'Croatia', 'Hong Kong', 'Somalia', 'Kosovo', 'Turkey',\n",
       "       'Indonesia', 'Jordan', 'Azerbaijan', 'Philippines', 'China',\n",
       "       'Bhutan', 'Kyrgyzstan', 'Serbia', 'Bosnia and Herzegovina',\n",
       "       'Montenegro', 'Dominican Republic', 'Morocco', 'Hungary',\n",
       "       'Pakistan', 'Lebanon', 'Portugal', 'Macedonia', 'Vietnam',\n",
       "       'Somaliland Region', 'Tunisia', 'Greece', 'Tajikistan', 'Mongolia',\n",
       "       'Laos', 'Nigeria', 'Honduras', 'Iran', 'Zambia', 'Nepal',\n",
       "       'Palestinian Territories', 'Albania', 'Bangladesh', 'Sierra Leone',\n",
       "       'Iraq', 'Namibia', 'Cameroon', 'Ethiopia', 'South Africa',\n",
       "       'Sri Lanka', 'India', 'Myanmar', 'Egypt', 'Armenia', 'Kenya',\n",
       "       'Ukraine', 'Ghana', 'Congo (Kinshasa)', 'Georgia',\n",
       "       'Congo (Brazzaville)', 'Senegal', 'Bulgaria', 'Mauritania',\n",
       "       'Zimbabwe', 'Malawi', 'Sudan', 'Gabon', 'Mali', 'Haiti',\n",
       "       'Botswana', 'Comoros', 'Ivory Coast', 'Cambodia', 'Angola',\n",
       "       'Niger', 'South Sudan', 'Chad', 'Burkina Faso', 'Uganda', 'Yemen',\n",
       "       'Madagascar', 'Tanzania', 'Liberia', 'Guinea', 'Rwanda', 'Benin',\n",
       "       'Afghanistan', 'Togo', 'Syria', 'Burundi'], dtype=object)"
      ]
     },
     "execution_count": 628,
     "metadata": {},
     "output_type": "execute_result"
    }
   ],
   "source": [
    "df_2016['Country'].unique()"
   ]
  },
  {
   "cell_type": "code",
   "execution_count": 629,
   "id": "7e54e4b7",
   "metadata": {},
   "outputs": [
    {
     "name": "stdout",
     "output_type": "stream",
     "text": [
      "Valores nulos:\n",
      " Country                          0\n",
      "Region                           0\n",
      "Happiness Rank                   0\n",
      "Happiness Score                  0\n",
      "Lower Confidence Interval        0\n",
      "Upper Confidence Interval        0\n",
      "Economy (GDP per Capita)         0\n",
      "Family                           0\n",
      "Health (Life Expectancy)         0\n",
      "Freedom                          0\n",
      "Trust (Government Corruption)    0\n",
      "Generosity                       0\n",
      "Dystopia Residual                0\n",
      "dtype: int64\n"
     ]
    }
   ],
   "source": [
    "null_values= df_2016.isnull().sum()\n",
    "print(\"Valores nulos:\\n\", null_values)"
   ]
  },
  {
   "cell_type": "code",
   "execution_count": 630,
   "id": "7d09e2da",
   "metadata": {},
   "outputs": [
    {
     "name": "stdout",
     "output_type": "stream",
     "text": [
      "Empty DataFrame\n",
      "Columns: [Country, Region, Happiness Rank, Happiness Score, Lower Confidence Interval, Upper Confidence Interval, Economy (GDP per Capita), Family, Health (Life Expectancy), Freedom, Trust (Government Corruption), Generosity, Dystopia Residual]\n",
      "Index: []\n"
     ]
    }
   ],
   "source": [
    "duplicados = df_2016.duplicated()\n",
    "\n",
    "print(df_2016[duplicados])\n"
   ]
  },
  {
   "cell_type": "markdown",
   "id": "67da4ee9",
   "metadata": {},
   "source": [
    "### 2017"
   ]
  },
  {
   "cell_type": "code",
   "execution_count": 631,
   "id": "aca4c57b",
   "metadata": {},
   "outputs": [
    {
     "name": "stdout",
     "output_type": "stream",
     "text": [
      "       Country  Happiness.Rank  Happiness.Score  Whisker.high  Whisker.low  \\\n",
      "0       Norway               1            7.537      7.594445     7.479556   \n",
      "1      Denmark               2            7.522      7.581728     7.462272   \n",
      "2      Iceland               3            7.504      7.622030     7.385970   \n",
      "3  Switzerland               4            7.494      7.561772     7.426227   \n",
      "4      Finland               5            7.469      7.527542     7.410458   \n",
      "\n",
      "   Economy..GDP.per.Capita.    Family  Health..Life.Expectancy.   Freedom  \\\n",
      "0                  1.616463  1.533524                  0.796667  0.635423   \n",
      "1                  1.482383  1.551122                  0.792566  0.626007   \n",
      "2                  1.480633  1.610574                  0.833552  0.627163   \n",
      "3                  1.564980  1.516912                  0.858131  0.620071   \n",
      "4                  1.443572  1.540247                  0.809158  0.617951   \n",
      "\n",
      "   Generosity  Trust..Government.Corruption.  Dystopia.Residual  \n",
      "0    0.362012                       0.315964           2.277027  \n",
      "1    0.355280                       0.400770           2.313707  \n",
      "2    0.475540                       0.153527           2.322715  \n",
      "3    0.290549                       0.367007           2.276716  \n",
      "4    0.245483                       0.382612           2.430182  \n"
     ]
    }
   ],
   "source": [
    "df_2017 = pd.read_csv(\"../data/2017.csv\")\n",
    "print(df_2017.head())  \n"
   ]
  },
  {
   "cell_type": "code",
   "execution_count": 632,
   "id": "e7de66ca",
   "metadata": {},
   "outputs": [
    {
     "data": {
      "text/plain": [
       "array(['Norway', 'Denmark', 'Iceland', 'Switzerland', 'Finland',\n",
       "       'Netherlands', 'Canada', 'New Zealand', 'Sweden', 'Australia',\n",
       "       'Israel', 'Costa Rica', 'Austria', 'United States', 'Ireland',\n",
       "       'Germany', 'Belgium', 'Luxembourg', 'United Kingdom', 'Chile',\n",
       "       'United Arab Emirates', 'Brazil', 'Czech Republic', 'Argentina',\n",
       "       'Mexico', 'Singapore', 'Malta', 'Uruguay', 'Guatemala', 'Panama',\n",
       "       'France', 'Thailand', 'Taiwan Province of China', 'Spain', 'Qatar',\n",
       "       'Colombia', 'Saudi Arabia', 'Trinidad and Tobago', 'Kuwait',\n",
       "       'Slovakia', 'Bahrain', 'Malaysia', 'Nicaragua', 'Ecuador',\n",
       "       'El Salvador', 'Poland', 'Uzbekistan', 'Italy', 'Russia', 'Belize',\n",
       "       'Japan', 'Lithuania', 'Algeria', 'Latvia', 'South Korea',\n",
       "       'Moldova', 'Romania', 'Bolivia', 'Turkmenistan', 'Kazakhstan',\n",
       "       'North Cyprus', 'Slovenia', 'Peru', 'Mauritius', 'Cyprus',\n",
       "       'Estonia', 'Belarus', 'Libya', 'Turkey', 'Paraguay',\n",
       "       'Hong Kong S.A.R., China', 'Philippines', 'Serbia', 'Jordan',\n",
       "       'Hungary', 'Jamaica', 'Croatia', 'Kosovo', 'China', 'Pakistan',\n",
       "       'Indonesia', 'Venezuela', 'Montenegro', 'Morocco', 'Azerbaijan',\n",
       "       'Dominican Republic', 'Greece', 'Lebanon', 'Portugal',\n",
       "       'Bosnia and Herzegovina', 'Honduras', 'Macedonia', 'Somalia',\n",
       "       'Vietnam', 'Nigeria', 'Tajikistan', 'Bhutan', 'Kyrgyzstan',\n",
       "       'Nepal', 'Mongolia', 'South Africa', 'Tunisia',\n",
       "       'Palestinian Territories', 'Egypt', 'Bulgaria', 'Sierra Leone',\n",
       "       'Cameroon', 'Iran', 'Albania', 'Bangladesh', 'Namibia', 'Kenya',\n",
       "       'Mozambique', 'Myanmar', 'Senegal', 'Zambia', 'Iraq', 'Gabon',\n",
       "       'Ethiopia', 'Sri Lanka', 'Armenia', 'India', 'Mauritania',\n",
       "       'Congo (Brazzaville)', 'Georgia', 'Congo (Kinshasa)', 'Mali',\n",
       "       'Ivory Coast', 'Cambodia', 'Sudan', 'Ghana', 'Ukraine', 'Uganda',\n",
       "       'Burkina Faso', 'Niger', 'Malawi', 'Chad', 'Zimbabwe', 'Lesotho',\n",
       "       'Angola', 'Afghanistan', 'Botswana', 'Benin', 'Madagascar',\n",
       "       'Haiti', 'Yemen', 'South Sudan', 'Liberia', 'Guinea', 'Togo',\n",
       "       'Rwanda', 'Syria', 'Tanzania', 'Burundi',\n",
       "       'Central African Republic'], dtype=object)"
      ]
     },
     "execution_count": 632,
     "metadata": {},
     "output_type": "execute_result"
    }
   ],
   "source": [
    "df_2017[\"Country\"].unique()"
   ]
  },
  {
   "cell_type": "code",
   "execution_count": 633,
   "id": "a174991e",
   "metadata": {},
   "outputs": [
    {
     "name": "stdout",
     "output_type": "stream",
     "text": [
      "<class 'pandas.core.frame.DataFrame'>\n",
      "RangeIndex: 155 entries, 0 to 154\n",
      "Data columns (total 12 columns):\n",
      " #   Column                         Non-Null Count  Dtype  \n",
      "---  ------                         --------------  -----  \n",
      " 0   Country                        155 non-null    object \n",
      " 1   Happiness.Rank                 155 non-null    int64  \n",
      " 2   Happiness.Score                155 non-null    float64\n",
      " 3   Whisker.high                   155 non-null    float64\n",
      " 4   Whisker.low                    155 non-null    float64\n",
      " 5   Economy..GDP.per.Capita.       155 non-null    float64\n",
      " 6   Family                         155 non-null    float64\n",
      " 7   Health..Life.Expectancy.       155 non-null    float64\n",
      " 8   Freedom                        155 non-null    float64\n",
      " 9   Generosity                     155 non-null    float64\n",
      " 10  Trust..Government.Corruption.  155 non-null    float64\n",
      " 11  Dystopia.Residual              155 non-null    float64\n",
      "dtypes: float64(10), int64(1), object(1)\n",
      "memory usage: 14.7+ KB\n"
     ]
    }
   ],
   "source": [
    "df_2017.info()"
   ]
  },
  {
   "cell_type": "code",
   "execution_count": 634,
   "id": "8dca026d",
   "metadata": {},
   "outputs": [
    {
     "name": "stdout",
     "output_type": "stream",
     "text": [
      "Valores nulos:\n",
      " Country                          0\n",
      "Happiness.Rank                   0\n",
      "Happiness.Score                  0\n",
      "Whisker.high                     0\n",
      "Whisker.low                      0\n",
      "Economy..GDP.per.Capita.         0\n",
      "Family                           0\n",
      "Health..Life.Expectancy.         0\n",
      "Freedom                          0\n",
      "Generosity                       0\n",
      "Trust..Government.Corruption.    0\n",
      "Dystopia.Residual                0\n",
      "dtype: int64\n"
     ]
    }
   ],
   "source": [
    "null_values= df_2017.isnull().sum()\n",
    "print(\"Valores nulos:\\n\", null_values)"
   ]
  },
  {
   "cell_type": "code",
   "execution_count": 635,
   "id": "b0749a83",
   "metadata": {},
   "outputs": [
    {
     "name": "stdout",
     "output_type": "stream",
     "text": [
      "Empty DataFrame\n",
      "Columns: [Country, Happiness.Rank, Happiness.Score, Whisker.high, Whisker.low, Economy..GDP.per.Capita., Family, Health..Life.Expectancy., Freedom, Generosity, Trust..Government.Corruption., Dystopia.Residual]\n",
      "Index: []\n"
     ]
    }
   ],
   "source": [
    "duplicados = df_2017.duplicated()\n",
    "\n",
    "print(df_2017[duplicados])\n"
   ]
  },
  {
   "cell_type": "markdown",
   "id": "758f8acf",
   "metadata": {},
   "source": [
    "### 2018"
   ]
  },
  {
   "cell_type": "code",
   "execution_count": 636,
   "id": "61fc19fe",
   "metadata": {},
   "outputs": [
    {
     "name": "stdout",
     "output_type": "stream",
     "text": [
      "   Overall rank Country or region  Score  GDP per capita  Social support  \\\n",
      "0             1           Finland  7.632           1.305           1.592   \n",
      "1             2            Norway  7.594           1.456           1.582   \n",
      "2             3           Denmark  7.555           1.351           1.590   \n",
      "3             4           Iceland  7.495           1.343           1.644   \n",
      "4             5       Switzerland  7.487           1.420           1.549   \n",
      "\n",
      "   Healthy life expectancy  Freedom to make life choices  Generosity  \\\n",
      "0                    0.874                         0.681       0.202   \n",
      "1                    0.861                         0.686       0.286   \n",
      "2                    0.868                         0.683       0.284   \n",
      "3                    0.914                         0.677       0.353   \n",
      "4                    0.927                         0.660       0.256   \n",
      "\n",
      "   Perceptions of corruption  \n",
      "0                      0.393  \n",
      "1                      0.340  \n",
      "2                      0.408  \n",
      "3                      0.138  \n",
      "4                      0.357  \n"
     ]
    }
   ],
   "source": [
    "df_2018 = pd.read_csv(\"../data/2018.csv\")\n",
    "print(df_2018.head())  \n"
   ]
  },
  {
   "cell_type": "code",
   "execution_count": 637,
   "id": "e674f69a",
   "metadata": {},
   "outputs": [
    {
     "data": {
      "text/plain": [
       "array(['Finland', 'Norway', 'Denmark', 'Iceland', 'Switzerland',\n",
       "       'Netherlands', 'Canada', 'New Zealand', 'Sweden', 'Australia',\n",
       "       'United Kingdom', 'Austria', 'Costa Rica', 'Ireland', 'Germany',\n",
       "       'Belgium', 'Luxembourg', 'United States', 'Israel',\n",
       "       'United Arab Emirates', 'Czech Republic', 'Malta', 'France',\n",
       "       'Mexico', 'Chile', 'Taiwan', 'Panama', 'Brazil', 'Argentina',\n",
       "       'Guatemala', 'Uruguay', 'Qatar', 'Saudi Arabia', 'Singapore',\n",
       "       'Malaysia', 'Spain', 'Colombia', 'Trinidad & Tobago', 'Slovakia',\n",
       "       'El Salvador', 'Nicaragua', 'Poland', 'Bahrain', 'Uzbekistan',\n",
       "       'Kuwait', 'Thailand', 'Italy', 'Ecuador', 'Belize', 'Lithuania',\n",
       "       'Slovenia', 'Romania', 'Latvia', 'Japan', 'Mauritius', 'Jamaica',\n",
       "       'South Korea', 'Northern Cyprus', 'Russia', 'Kazakhstan', 'Cyprus',\n",
       "       'Bolivia', 'Estonia', 'Paraguay', 'Peru', 'Kosovo', 'Moldova',\n",
       "       'Turkmenistan', 'Hungary', 'Libya', 'Philippines', 'Honduras',\n",
       "       'Belarus', 'Turkey', 'Pakistan', 'Hong Kong', 'Portugal', 'Serbia',\n",
       "       'Greece', 'Lebanon', 'Montenegro', 'Croatia', 'Dominican Republic',\n",
       "       'Algeria', 'Morocco', 'China', 'Azerbaijan', 'Tajikistan',\n",
       "       'Macedonia', 'Jordan', 'Nigeria', 'Kyrgyzstan',\n",
       "       'Bosnia and Herzegovina', 'Mongolia', 'Vietnam', 'Indonesia',\n",
       "       'Bhutan', 'Somalia', 'Cameroon', 'Bulgaria', 'Nepal', 'Venezuela',\n",
       "       'Gabon', 'Palestinian Territories', 'South Africa', 'Iran',\n",
       "       'Ivory Coast', 'Ghana', 'Senegal', 'Laos', 'Tunisia', 'Albania',\n",
       "       'Sierra Leone', 'Congo (Brazzaville)', 'Bangladesh', 'Sri Lanka',\n",
       "       'Iraq', 'Mali', 'Namibia', 'Cambodia', 'Burkina Faso', 'Egypt',\n",
       "       'Mozambique', 'Kenya', 'Zambia', 'Mauritania', 'Ethiopia',\n",
       "       'Georgia', 'Armenia', 'Myanmar', 'Chad', 'Congo (Kinshasa)',\n",
       "       'India', 'Niger', 'Uganda', 'Benin', 'Sudan', 'Ukraine', 'Togo',\n",
       "       'Guinea', 'Lesotho', 'Angola', 'Madagascar', 'Zimbabwe',\n",
       "       'Afghanistan', 'Botswana', 'Malawi', 'Haiti', 'Liberia', 'Syria',\n",
       "       'Rwanda', 'Yemen', 'Tanzania', 'South Sudan',\n",
       "       'Central African Republic', 'Burundi'], dtype=object)"
      ]
     },
     "execution_count": 637,
     "metadata": {},
     "output_type": "execute_result"
    }
   ],
   "source": [
    "df_2018[\"Country or region\"].unique()"
   ]
  },
  {
   "cell_type": "code",
   "execution_count": 638,
   "id": "42ca9224",
   "metadata": {},
   "outputs": [
    {
     "name": "stdout",
     "output_type": "stream",
     "text": [
      "<class 'pandas.core.frame.DataFrame'>\n",
      "RangeIndex: 156 entries, 0 to 155\n",
      "Data columns (total 9 columns):\n",
      " #   Column                        Non-Null Count  Dtype  \n",
      "---  ------                        --------------  -----  \n",
      " 0   Overall rank                  156 non-null    int64  \n",
      " 1   Country or region             156 non-null    object \n",
      " 2   Score                         156 non-null    float64\n",
      " 3   GDP per capita                156 non-null    float64\n",
      " 4   Social support                156 non-null    float64\n",
      " 5   Healthy life expectancy       156 non-null    float64\n",
      " 6   Freedom to make life choices  156 non-null    float64\n",
      " 7   Generosity                    156 non-null    float64\n",
      " 8   Perceptions of corruption     155 non-null    float64\n",
      "dtypes: float64(7), int64(1), object(1)\n",
      "memory usage: 11.1+ KB\n"
     ]
    }
   ],
   "source": [
    "df_2018.info()"
   ]
  },
  {
   "cell_type": "code",
   "execution_count": 639,
   "id": "b1dcc11d",
   "metadata": {},
   "outputs": [
    {
     "name": "stdout",
     "output_type": "stream",
     "text": [
      "Valores nulos:\n",
      " Overall rank                    0\n",
      "Country or region               0\n",
      "Score                           0\n",
      "GDP per capita                  0\n",
      "Social support                  0\n",
      "Healthy life expectancy         0\n",
      "Freedom to make life choices    0\n",
      "Generosity                      0\n",
      "Perceptions of corruption       1\n",
      "dtype: int64\n"
     ]
    }
   ],
   "source": [
    "null_values= df_2018.isnull().sum()\n",
    "print(\"Valores nulos:\\n\", null_values)"
   ]
  },
  {
   "cell_type": "code",
   "execution_count": 640,
   "id": "25eb89c6",
   "metadata": {},
   "outputs": [
    {
     "name": "stdout",
     "output_type": "stream",
     "text": [
      "Filas con valores nulos en 2018:\n",
      "    Overall rank     Country or region  Score  GDP per capita  Social support  \\\n",
      "19            20  United Arab Emirates  6.774           2.096           0.776   \n",
      "\n",
      "    Healthy life expectancy  Freedom to make life choices  Generosity  \\\n",
      "19                     0.67                         0.284       0.186   \n",
      "\n",
      "    Perceptions of corruption  \n",
      "19                        NaN  \n"
     ]
    }
   ],
   "source": [
    "# Mostrar filas con al menos un valor nulo en 2015\n",
    "null_rows = df_2018[df_2018.isnull().any(axis=1)]\n",
    "print(\"Filas con valores nulos en 2018:\")\n",
    "print(null_rows)"
   ]
  },
  {
   "cell_type": "code",
   "execution_count": 641,
   "id": "6b939e07",
   "metadata": {},
   "outputs": [
    {
     "name": "stdout",
     "output_type": "stream",
     "text": [
      "Empty DataFrame\n",
      "Columns: [Overall rank, Country or region, Score, GDP per capita, Social support, Healthy life expectancy, Freedom to make life choices, Generosity, Perceptions of corruption]\n",
      "Index: []\n"
     ]
    }
   ],
   "source": [
    "duplicados = df_2018.duplicated()\n",
    "\n",
    "print(df_2018[duplicados])"
   ]
  },
  {
   "cell_type": "markdown",
   "id": "32a3cc79",
   "metadata": {},
   "source": [
    "### 2019"
   ]
  },
  {
   "cell_type": "code",
   "execution_count": 642,
   "id": "d4a50822",
   "metadata": {},
   "outputs": [
    {
     "name": "stdout",
     "output_type": "stream",
     "text": [
      "   Overall rank Country or region  Score  GDP per capita  Social support  \\\n",
      "0             1           Finland  7.769           1.340           1.587   \n",
      "1             2           Denmark  7.600           1.383           1.573   \n",
      "2             3            Norway  7.554           1.488           1.582   \n",
      "3             4           Iceland  7.494           1.380           1.624   \n",
      "4             5       Netherlands  7.488           1.396           1.522   \n",
      "\n",
      "   Healthy life expectancy  Freedom to make life choices  Generosity  \\\n",
      "0                    0.986                         0.596       0.153   \n",
      "1                    0.996                         0.592       0.252   \n",
      "2                    1.028                         0.603       0.271   \n",
      "3                    1.026                         0.591       0.354   \n",
      "4                    0.999                         0.557       0.322   \n",
      "\n",
      "   Perceptions of corruption  \n",
      "0                      0.393  \n",
      "1                      0.410  \n",
      "2                      0.341  \n",
      "3                      0.118  \n",
      "4                      0.298  \n"
     ]
    }
   ],
   "source": [
    "df_2019 = pd.read_csv(\"../data/2019.csv\")\n",
    "print(df_2019.head())  \n"
   ]
  },
  {
   "cell_type": "code",
   "execution_count": 643,
   "id": "6b44144f",
   "metadata": {},
   "outputs": [
    {
     "data": {
      "text/plain": [
       "array(['Finland', 'Denmark', 'Norway', 'Iceland', 'Netherlands',\n",
       "       'Switzerland', 'Sweden', 'New Zealand', 'Canada', 'Austria',\n",
       "       'Australia', 'Costa Rica', 'Israel', 'Luxembourg',\n",
       "       'United Kingdom', 'Ireland', 'Germany', 'Belgium', 'United States',\n",
       "       'Czech Republic', 'United Arab Emirates', 'Malta', 'Mexico',\n",
       "       'France', 'Taiwan', 'Chile', 'Guatemala', 'Saudi Arabia', 'Qatar',\n",
       "       'Spain', 'Panama', 'Brazil', 'Uruguay', 'Singapore', 'El Salvador',\n",
       "       'Italy', 'Bahrain', 'Slovakia', 'Trinidad & Tobago', 'Poland',\n",
       "       'Uzbekistan', 'Lithuania', 'Colombia', 'Slovenia', 'Nicaragua',\n",
       "       'Kosovo', 'Argentina', 'Romania', 'Cyprus', 'Ecuador', 'Kuwait',\n",
       "       'Thailand', 'Latvia', 'South Korea', 'Estonia', 'Jamaica',\n",
       "       'Mauritius', 'Japan', 'Honduras', 'Kazakhstan', 'Bolivia',\n",
       "       'Hungary', 'Paraguay', 'Northern Cyprus', 'Peru', 'Portugal',\n",
       "       'Pakistan', 'Russia', 'Philippines', 'Serbia', 'Moldova', 'Libya',\n",
       "       'Montenegro', 'Tajikistan', 'Croatia', 'Hong Kong',\n",
       "       'Dominican Republic', 'Bosnia and Herzegovina', 'Turkey',\n",
       "       'Malaysia', 'Belarus', 'Greece', 'Mongolia', 'North Macedonia',\n",
       "       'Nigeria', 'Kyrgyzstan', 'Turkmenistan', 'Algeria', 'Morocco',\n",
       "       'Azerbaijan', 'Lebanon', 'Indonesia', 'China', 'Vietnam', 'Bhutan',\n",
       "       'Cameroon', 'Bulgaria', 'Ghana', 'Ivory Coast', 'Nepal', 'Jordan',\n",
       "       'Benin', 'Congo (Brazzaville)', 'Gabon', 'Laos', 'South Africa',\n",
       "       'Albania', 'Venezuela', 'Cambodia', 'Palestinian Territories',\n",
       "       'Senegal', 'Somalia', 'Namibia', 'Niger', 'Burkina Faso',\n",
       "       'Armenia', 'Iran', 'Guinea', 'Georgia', 'Gambia', 'Kenya',\n",
       "       'Mauritania', 'Mozambique', 'Tunisia', 'Bangladesh', 'Iraq',\n",
       "       'Congo (Kinshasa)', 'Mali', 'Sierra Leone', 'Sri Lanka', 'Myanmar',\n",
       "       'Chad', 'Ukraine', 'Ethiopia', 'Swaziland', 'Uganda', 'Egypt',\n",
       "       'Zambia', 'Togo', 'India', 'Liberia', 'Comoros', 'Madagascar',\n",
       "       'Lesotho', 'Burundi', 'Zimbabwe', 'Haiti', 'Botswana', 'Syria',\n",
       "       'Malawi', 'Yemen', 'Rwanda', 'Tanzania', 'Afghanistan',\n",
       "       'Central African Republic', 'South Sudan'], dtype=object)"
      ]
     },
     "execution_count": 643,
     "metadata": {},
     "output_type": "execute_result"
    }
   ],
   "source": [
    "df_2019[\"Country or region\"].unique()"
   ]
  },
  {
   "cell_type": "code",
   "execution_count": 644,
   "id": "56f69d1f",
   "metadata": {},
   "outputs": [
    {
     "name": "stdout",
     "output_type": "stream",
     "text": [
      "<class 'pandas.core.frame.DataFrame'>\n",
      "RangeIndex: 156 entries, 0 to 155\n",
      "Data columns (total 9 columns):\n",
      " #   Column                        Non-Null Count  Dtype  \n",
      "---  ------                        --------------  -----  \n",
      " 0   Overall rank                  156 non-null    int64  \n",
      " 1   Country or region             156 non-null    object \n",
      " 2   Score                         156 non-null    float64\n",
      " 3   GDP per capita                156 non-null    float64\n",
      " 4   Social support                156 non-null    float64\n",
      " 5   Healthy life expectancy       156 non-null    float64\n",
      " 6   Freedom to make life choices  156 non-null    float64\n",
      " 7   Generosity                    156 non-null    float64\n",
      " 8   Perceptions of corruption     156 non-null    float64\n",
      "dtypes: float64(7), int64(1), object(1)\n",
      "memory usage: 11.1+ KB\n"
     ]
    }
   ],
   "source": [
    "df_2019.info()"
   ]
  },
  {
   "cell_type": "code",
   "execution_count": 645,
   "id": "c7daf551",
   "metadata": {},
   "outputs": [
    {
     "name": "stdout",
     "output_type": "stream",
     "text": [
      "Valores nulos:\n",
      " Overall rank                    0\n",
      "Country or region               0\n",
      "Score                           0\n",
      "GDP per capita                  0\n",
      "Social support                  0\n",
      "Healthy life expectancy         0\n",
      "Freedom to make life choices    0\n",
      "Generosity                      0\n",
      "Perceptions of corruption       0\n",
      "dtype: int64\n"
     ]
    }
   ],
   "source": [
    "null_values= df_2019.isnull().sum()\n",
    "print(\"Valores nulos:\\n\", null_values)"
   ]
  },
  {
   "cell_type": "code",
   "execution_count": 646,
   "id": "c1d86697",
   "metadata": {},
   "outputs": [
    {
     "name": "stdout",
     "output_type": "stream",
     "text": [
      "Empty DataFrame\n",
      "Columns: [Overall rank, Country or region, Score, GDP per capita, Social support, Healthy life expectancy, Freedom to make life choices, Generosity, Perceptions of corruption]\n",
      "Index: []\n"
     ]
    }
   ],
   "source": [
    "duplicados = df_2019.duplicated()\n",
    "\n",
    "print(df_2018[duplicados])"
   ]
  },
  {
   "cell_type": "markdown",
   "id": "bd57b72a",
   "metadata": {},
   "source": [
    "## Datos combinados "
   ]
  },
  {
   "cell_type": "markdown",
   "id": "2538e067",
   "metadata": {},
   "source": [
    "### Unir los datasets por columnas en comun "
   ]
  },
  {
   "cell_type": "code",
   "execution_count": 647,
   "id": "86bace93",
   "metadata": {},
   "outputs": [
    {
     "name": "stdout",
     "output_type": "stream",
     "text": [
      "Columnas 2015: ['Country', 'Region', 'Happiness Rank', 'Happiness Score', 'Standard Error', 'Economy (GDP per Capita)', 'Family', 'Health (Life Expectancy)', 'Freedom', 'Trust (Government Corruption)', 'Generosity', 'Dystopia Residual']\n",
      "Columnas 2016: ['Country', 'Region', 'Happiness Rank', 'Happiness Score', 'Lower Confidence Interval', 'Upper Confidence Interval', 'Economy (GDP per Capita)', 'Family', 'Health (Life Expectancy)', 'Freedom', 'Trust (Government Corruption)', 'Generosity', 'Dystopia Residual']\n",
      "Columnas 2017: ['Country', 'Happiness.Rank', 'Happiness.Score', 'Whisker.high', 'Whisker.low', 'Economy..GDP.per.Capita.', 'Family', 'Health..Life.Expectancy.', 'Freedom', 'Generosity', 'Trust..Government.Corruption.', 'Dystopia.Residual']\n",
      "Columnas 2018: ['Overall rank', 'Country or region', 'Score', 'GDP per capita', 'Social support', 'Healthy life expectancy', 'Freedom to make life choices', 'Generosity', 'Perceptions of corruption']\n",
      "Columnas 2019: ['Overall rank', 'Country or region', 'Score', 'GDP per capita', 'Social support', 'Healthy life expectancy', 'Freedom to make life choices', 'Generosity', 'Perceptions of corruption']\n"
     ]
    }
   ],
   "source": [
    "print('Columnas 2015:', df_2015.columns.tolist())\n",
    "print('Columnas 2016:', df_2016.columns.tolist())\n",
    "print('Columnas 2017:', df_2017.columns.tolist())\n",
    "print('Columnas 2018:', df_2018.columns.tolist())\n",
    "print('Columnas 2019:', df_2019.columns.tolist())"
   ]
  },
  {
   "cell_type": "code",
   "execution_count": 648,
   "id": "a9c9c3ca",
   "metadata": {},
   "outputs": [
    {
     "name": "stdout",
     "output_type": "stream",
     "text": [
      "Columnas 2015 (renombradas): ['Country_or_region', 'Region', 'Happiness_Rank', 'Happiness_Score', 'Standard Error', 'GDP_per_capita', 'Social_support', 'Healthy_life_expectancy', 'Freedom', 'Perceptions_of_corruption', 'Generosity', 'Dystopia Residual']\n",
      "Columnas 2016 (renombradas): ['Country_or_region', 'Region', 'Happiness_Rank', 'Happiness_Score', 'Lower Confidence Interval', 'Upper Confidence Interval', 'GDP_per_capita', 'Social_support', 'Healthy_life_expectancy', 'Freedom', 'Perceptions_of_corruption', 'Generosity', 'Dystopia Residual']\n",
      "Columnas 2017 (renombradas): ['Country_or_region', 'Happiness_Rank', 'Happiness_Score', 'Whisker.high', 'Whisker.low', 'GDP_per_capita', 'Social_support', 'Healthy_life_expectancy', 'Freedom', 'Generosity', 'Perceptions_of_corruption', 'Dystopia_Residual']\n",
      "Columnas 2018 (renombradas): ['Happiness_Rank', 'Country_or_region', 'Happiness_Score', 'GDP_per_capita', 'Social_support', 'Healthy_life_expectancy', 'Freedom', 'Generosity', 'Perceptions_of_corruption']\n",
      "Columnas 2019 (renombradas): ['Happiness_Rank', 'Country_or_region', 'Happiness_Score', 'GDP_per_capita', 'Social_support', 'Healthy_life_expectancy', 'Freedom', 'Generosity', 'Perceptions_of_corruption']\n"
     ]
    }
   ],
   "source": [
    "# Renombrar columnas\n",
    "df_2015 = df_2015.rename(columns={\n",
    "    'Country': 'Country_or_region',\n",
    "    'Family': 'Social_support',\n",
    "    'Happiness Rank': 'Happiness_Rank',\n",
    "    'Happiness Score': 'Happiness_Score',\n",
    "    'Economy (GDP per Capita)': 'GDP_per_capita',\n",
    "    'Health (Life Expectancy)': 'Healthy_life_expectancy',\n",
    "    'Trust (Government Corruption)': 'Perceptions_of_corruption'\n",
    "})\n",
    "df_2016 = df_2016.rename(columns={\n",
    "    'Country': 'Country_or_region',\n",
    "    'Family': 'Social_support',\n",
    "    'Happiness Rank': 'Happiness_Rank',\n",
    "    'Happiness Score': 'Happiness_Score',\n",
    "    'Economy (GDP per Capita)': 'GDP_per_capita',\n",
    "    'Health (Life Expectancy)': 'Healthy_life_expectancy',\n",
    "    'Trust (Government Corruption)': 'Perceptions_of_corruption'\n",
    "})\n",
    "df_2017 = df_2017.rename(columns={\n",
    "    'Country': 'Country_or_region',\n",
    "    'Happiness.Score': 'Happiness_Score',\n",
    "    'Family': 'Social_support',\n",
    "    'Happiness.Rank': 'Happiness_Rank',\n",
    "    'Economy..GDP.per.Capita.': 'GDP_per_capita',\n",
    "    'Health..Life.Expectancy.': 'Healthy_life_expectancy',\n",
    "    'Trust..Government.Corruption.': 'Perceptions_of_corruption',\n",
    "    'Dystopia.Residual': 'Dystopia_Residual'\n",
    "})\n",
    "df_2018 = df_2018.rename(columns={\n",
    "    'Country or region': 'Country_or_region',\n",
    "    'Score': 'Happiness_Score',\n",
    "    'Social support': 'Social_support',\n",
    "    'Overall rank': 'Happiness_Rank',\n",
    "    'GDP per capita': 'GDP_per_capita',\n",
    "    'Healthy life expectancy': 'Healthy_life_expectancy',\n",
    "    'Freedom to make life choices': 'Freedom',\n",
    "    'Perceptions of corruption': 'Perceptions_of_corruption'\n",
    "})\n",
    "df_2019 = df_2019.rename(columns={\n",
    "    'Country or region': 'Country_or_region',\n",
    "    'Social support': 'Social_support',\n",
    "    'Score': 'Happiness_Score',\n",
    "    'Overall rank': 'Happiness_Rank',\n",
    "    'GDP per capita': 'GDP_per_capita',\n",
    "    'Healthy life expectancy': 'Healthy_life_expectancy',\n",
    "    'Freedom to make life choices': 'Freedom',\n",
    "    'Perceptions of corruption': 'Perceptions_of_corruption'\n",
    "})\n",
    "\n",
    "# Verificar columnas renombradas\n",
    "print('Columnas 2015 (renombradas):', df_2015.columns.tolist())\n",
    "print('Columnas 2016 (renombradas):', df_2016.columns.tolist())\n",
    "print('Columnas 2017 (renombradas):', df_2017.columns.tolist())\n",
    "print('Columnas 2018 (renombradas):', df_2018.columns.tolist())\n",
    "print('Columnas 2019 (renombradas):', df_2019.columns.tolist())"
   ]
  },
  {
   "cell_type": "code",
   "execution_count": 649,
   "id": "0cb11489",
   "metadata": {},
   "outputs": [
    {
     "name": "stdout",
     "output_type": "stream",
     "text": [
      "Columnas comunes: ['Happiness_Score', 'Country_or_region', 'Healthy_life_expectancy', 'Happiness_Rank', 'Social_support', 'Freedom', 'Perceptions_of_corruption', 'Generosity', 'GDP_per_capita']\n"
     ]
    }
   ],
   "source": [
    "# Encontrar columnas comunes\n",
    "common_columns = list(set(df_2015.columns) & set(df_2016.columns) & set(df_2017.columns) & \n",
    "                      set(df_2018.columns) & set(df_2019.columns))\n",
    "print('Columnas comunes:', common_columns)\n",
    "\n"
   ]
  },
  {
   "cell_type": "code",
   "execution_count": 650,
   "id": "758e32c5",
   "metadata": {},
   "outputs": [
    {
     "data": {
      "text/html": [
       "<div>\n",
       "<style scoped>\n",
       "    .dataframe tbody tr th:only-of-type {\n",
       "        vertical-align: middle;\n",
       "    }\n",
       "\n",
       "    .dataframe tbody tr th {\n",
       "        vertical-align: top;\n",
       "    }\n",
       "\n",
       "    .dataframe thead th {\n",
       "        text-align: right;\n",
       "    }\n",
       "</style>\n",
       "<table border=\"1\" class=\"dataframe\">\n",
       "  <thead>\n",
       "    <tr style=\"text-align: right;\">\n",
       "      <th></th>\n",
       "      <th>Freedom</th>\n",
       "      <th>Generosity</th>\n",
       "      <th>Happiness_Rank</th>\n",
       "      <th>Country_or_region</th>\n",
       "      <th>Perceptions_of_corruption</th>\n",
       "      <th>GDP_per_capita</th>\n",
       "      <th>Healthy_life_expectancy</th>\n",
       "      <th>Happiness_Score</th>\n",
       "      <th>Social_support</th>\n",
       "      <th>Year</th>\n",
       "    </tr>\n",
       "  </thead>\n",
       "  <tbody>\n",
       "    <tr>\n",
       "      <th>0</th>\n",
       "      <td>0.66557</td>\n",
       "      <td>0.29678</td>\n",
       "      <td>1</td>\n",
       "      <td>Switzerland</td>\n",
       "      <td>0.41978</td>\n",
       "      <td>1.39651</td>\n",
       "      <td>0.94143</td>\n",
       "      <td>7.587</td>\n",
       "      <td>1.34951</td>\n",
       "      <td>2015</td>\n",
       "    </tr>\n",
       "    <tr>\n",
       "      <th>1</th>\n",
       "      <td>0.62877</td>\n",
       "      <td>0.43630</td>\n",
       "      <td>2</td>\n",
       "      <td>Iceland</td>\n",
       "      <td>0.14145</td>\n",
       "      <td>1.30232</td>\n",
       "      <td>0.94784</td>\n",
       "      <td>7.561</td>\n",
       "      <td>1.40223</td>\n",
       "      <td>2015</td>\n",
       "    </tr>\n",
       "    <tr>\n",
       "      <th>2</th>\n",
       "      <td>0.64938</td>\n",
       "      <td>0.34139</td>\n",
       "      <td>3</td>\n",
       "      <td>Denmark</td>\n",
       "      <td>0.48357</td>\n",
       "      <td>1.32548</td>\n",
       "      <td>0.87464</td>\n",
       "      <td>7.527</td>\n",
       "      <td>1.36058</td>\n",
       "      <td>2015</td>\n",
       "    </tr>\n",
       "    <tr>\n",
       "      <th>3</th>\n",
       "      <td>0.66973</td>\n",
       "      <td>0.34699</td>\n",
       "      <td>4</td>\n",
       "      <td>Norway</td>\n",
       "      <td>0.36503</td>\n",
       "      <td>1.45900</td>\n",
       "      <td>0.88521</td>\n",
       "      <td>7.522</td>\n",
       "      <td>1.33095</td>\n",
       "      <td>2015</td>\n",
       "    </tr>\n",
       "    <tr>\n",
       "      <th>4</th>\n",
       "      <td>0.63297</td>\n",
       "      <td>0.45811</td>\n",
       "      <td>5</td>\n",
       "      <td>Canada</td>\n",
       "      <td>0.32957</td>\n",
       "      <td>1.32629</td>\n",
       "      <td>0.90563</td>\n",
       "      <td>7.427</td>\n",
       "      <td>1.32261</td>\n",
       "      <td>2015</td>\n",
       "    </tr>\n",
       "  </tbody>\n",
       "</table>\n",
       "</div>"
      ],
      "text/plain": [
       "   Freedom  Generosity  Happiness_Rank Country_or_region  \\\n",
       "0  0.66557     0.29678               1       Switzerland   \n",
       "1  0.62877     0.43630               2           Iceland   \n",
       "2  0.64938     0.34139               3           Denmark   \n",
       "3  0.66973     0.34699               4            Norway   \n",
       "4  0.63297     0.45811               5            Canada   \n",
       "\n",
       "   Perceptions_of_corruption  GDP_per_capita  Healthy_life_expectancy  \\\n",
       "0                    0.41978         1.39651                  0.94143   \n",
       "1                    0.14145         1.30232                  0.94784   \n",
       "2                    0.48357         1.32548                  0.87464   \n",
       "3                    0.36503         1.45900                  0.88521   \n",
       "4                    0.32957         1.32629                  0.90563   \n",
       "\n",
       "   Happiness_Score  Social_support  Year  \n",
       "0            7.587         1.34951  2015  \n",
       "1            7.561         1.40223  2015  \n",
       "2            7.527         1.36058  2015  \n",
       "3            7.522         1.33095  2015  \n",
       "4            7.427         1.32261  2015  "
      ]
     },
     "execution_count": 650,
     "metadata": {},
     "output_type": "execute_result"
    }
   ],
   "source": [
    "# Agregar columna de año\n",
    "df_2015['Year'] = 2015\n",
    "df_2016['Year'] = 2016\n",
    "df_2017['Year'] = 2017\n",
    "df_2018['Year'] = 2018\n",
    "df_2019['Year'] = 2019\n",
    "\n",
    "selected_features =  ['Freedom', 'Generosity', 'Happiness_Rank', 'Country_or_region', 'Perceptions_of_corruption', 'GDP_per_capita', 'Healthy_life_expectancy', 'Happiness_Score', 'Social_support']\n",
    "\n",
    "# Combinar DataFrames\n",
    "df = pd.concat([\n",
    "    df_2015[selected_features + ['Year']],\n",
    "    df_2016[selected_features + ['Year']],\n",
    "    df_2017[selected_features + ['Year']],\n",
    "    df_2018[selected_features + ['Year']],\n",
    "    df_2019[selected_features + ['Year']]\n",
    "], ignore_index=True)\n",
    "\n",
    "# Guardar datos combinados\n",
    "df.head()"
   ]
  },
  {
   "cell_type": "markdown",
   "id": "4eabc15e",
   "metadata": {},
   "source": [
    "### Nulos y duplicados "
   ]
  },
  {
   "cell_type": "code",
   "execution_count": 651,
   "id": "87b80466",
   "metadata": {},
   "outputs": [
    {
     "name": "stdout",
     "output_type": "stream",
     "text": [
      "Valores nulos:\n",
      " Freedom                      0\n",
      "Generosity                   0\n",
      "Happiness_Rank               0\n",
      "Country_or_region            0\n",
      "Perceptions_of_corruption    1\n",
      "GDP_per_capita               0\n",
      "Healthy_life_expectancy      0\n",
      "Happiness_Score              0\n",
      "Social_support               0\n",
      "Year                         0\n",
      "dtype: int64\n"
     ]
    }
   ],
   "source": [
    "null_values= df.isnull().sum()\n",
    "print(\"Valores nulos:\\n\", null_values)"
   ]
  },
  {
   "cell_type": "code",
   "execution_count": 652,
   "id": "b5203e0d",
   "metadata": {},
   "outputs": [
    {
     "name": "stdout",
     "output_type": "stream",
     "text": [
      "Año 2015:\n",
      "       Country_or_region  Perceptions_of_corruption\n",
      "19  United Arab Emirates                    0.38583\n",
      "Año 2016:\n",
      "       Country_or_region  Perceptions_of_corruption\n",
      "27  United Arab Emirates                    0.35561\n",
      "Año 2017:\n",
      "       Country_or_region  Perceptions_of_corruption\n",
      "20  United Arab Emirates                    0.32449\n",
      "Año 2018:\n",
      "       Country_or_region  Perceptions_of_corruption\n",
      "19  United Arab Emirates                        NaN\n",
      "Año 2019:\n",
      "       Country_or_region  Perceptions_of_corruption\n",
      "20  United Arab Emirates                      0.182\n"
     ]
    }
   ],
   "source": [
    "# Revisar valores de Perceptions_of_corruption para United Arab Emirates en todos los años\n",
    "for year, df_year in [(2015, df_2015), (2016, df_2016), (2017, df_2017), (2018, df_2018), (2019, df_2019)]:\n",
    "    uae_data = df_year[df_year['Country_or_region'] == 'United Arab Emirates']\n",
    "    if not uae_data.empty:\n",
    "        print(f\"Año {year}:\")\n",
    "        print(uae_data[['Country_or_region', 'Perceptions_of_corruption']])"
   ]
  },
  {
   "cell_type": "code",
   "execution_count": 653,
   "id": "69cfd807",
   "metadata": {},
   "outputs": [
    {
     "name": "stdout",
     "output_type": "stream",
     "text": [
      "Valor imputado para United Arab Emirates (2018): 0.253245\n",
      "        Country_or_region  Year  Perceptions_of_corruption\n",
      "489  United Arab Emirates  2018                   0.253245\n"
     ]
    }
   ],
   "source": [
    "imputed_value = (0.32449 + 0.182) / 2  # Promedio de 2017 y 2019\n",
    "df.loc[(df['Country_or_region'] == 'United Arab Emirates') & (df['Year'] == 2018), 'Perceptions_of_corruption'] = imputed_value\n",
    "print(f\"Valor imputado para United Arab Emirates (2018): {imputed_value}\")\n",
    "print(df[(df['Country_or_region'] == 'United Arab Emirates') & (df['Year'] == 2018)][['Country_or_region', 'Year', 'Perceptions_of_corruption']])"
   ]
  },
  {
   "cell_type": "code",
   "execution_count": 654,
   "id": "280783e8",
   "metadata": {},
   "outputs": [
    {
     "name": "stdout",
     "output_type": "stream",
     "text": [
      "Valores nulos:\n",
      " Freedom                      0\n",
      "Generosity                   0\n",
      "Happiness_Rank               0\n",
      "Country_or_region            0\n",
      "Perceptions_of_corruption    0\n",
      "GDP_per_capita               0\n",
      "Healthy_life_expectancy      0\n",
      "Happiness_Score              0\n",
      "Social_support               0\n",
      "Year                         0\n",
      "dtype: int64\n"
     ]
    }
   ],
   "source": [
    "null_values= df.isnull().sum()\n",
    "print(\"Valores nulos:\\n\", null_values)"
   ]
  },
  {
   "cell_type": "code",
   "execution_count": 655,
   "id": "cc5cf3d8",
   "metadata": {},
   "outputs": [
    {
     "name": "stdout",
     "output_type": "stream",
     "text": [
      "Empty DataFrame\n",
      "Columns: [Freedom, Generosity, Happiness_Rank, Country_or_region, Perceptions_of_corruption, GDP_per_capita, Healthy_life_expectancy, Happiness_Score, Social_support, Year]\n",
      "Index: []\n"
     ]
    }
   ],
   "source": [
    "duplicados = df.duplicated()\n",
    "\n",
    "print(df[duplicados])"
   ]
  },
  {
   "cell_type": "code",
   "execution_count": 656,
   "id": "a7801104",
   "metadata": {},
   "outputs": [
    {
     "data": {
      "text/plain": [
       "(782, 10)"
      ]
     },
     "execution_count": 656,
     "metadata": {},
     "output_type": "execute_result"
    }
   ],
   "source": [
    "df.shape"
   ]
  },
  {
   "cell_type": "markdown",
   "id": "b0a6f48a",
   "metadata": {},
   "source": [
    "### Estadisticas descriptivas "
   ]
  },
  {
   "cell_type": "code",
   "execution_count": 657,
   "id": "eb5de2ba",
   "metadata": {},
   "outputs": [
    {
     "data": {
      "text/html": [
       "<div>\n",
       "<style scoped>\n",
       "    .dataframe tbody tr th:only-of-type {\n",
       "        vertical-align: middle;\n",
       "    }\n",
       "\n",
       "    .dataframe tbody tr th {\n",
       "        vertical-align: top;\n",
       "    }\n",
       "\n",
       "    .dataframe thead th {\n",
       "        text-align: right;\n",
       "    }\n",
       "</style>\n",
       "<table border=\"1\" class=\"dataframe\">\n",
       "  <thead>\n",
       "    <tr style=\"text-align: right;\">\n",
       "      <th></th>\n",
       "      <th>Freedom</th>\n",
       "      <th>Generosity</th>\n",
       "      <th>Happiness_Rank</th>\n",
       "      <th>Perceptions_of_corruption</th>\n",
       "      <th>GDP_per_capita</th>\n",
       "      <th>Healthy_life_expectancy</th>\n",
       "      <th>Happiness_Score</th>\n",
       "      <th>Social_support</th>\n",
       "      <th>Year</th>\n",
       "    </tr>\n",
       "  </thead>\n",
       "  <tbody>\n",
       "    <tr>\n",
       "      <th>count</th>\n",
       "      <td>782.000000</td>\n",
       "      <td>782.000000</td>\n",
       "      <td>782.000000</td>\n",
       "      <td>782.000000</td>\n",
       "      <td>782.000000</td>\n",
       "      <td>782.000000</td>\n",
       "      <td>782.000000</td>\n",
       "      <td>782.000000</td>\n",
       "      <td>782.000000</td>\n",
       "    </tr>\n",
       "    <tr>\n",
       "      <th>mean</th>\n",
       "      <td>0.411091</td>\n",
       "      <td>0.218576</td>\n",
       "      <td>78.698210</td>\n",
       "      <td>0.125599</td>\n",
       "      <td>0.916047</td>\n",
       "      <td>0.612416</td>\n",
       "      <td>5.379018</td>\n",
       "      <td>1.078392</td>\n",
       "      <td>2016.993606</td>\n",
       "    </tr>\n",
       "    <tr>\n",
       "      <th>std</th>\n",
       "      <td>0.152880</td>\n",
       "      <td>0.122321</td>\n",
       "      <td>45.182384</td>\n",
       "      <td>0.105847</td>\n",
       "      <td>0.407340</td>\n",
       "      <td>0.248309</td>\n",
       "      <td>1.127456</td>\n",
       "      <td>0.329548</td>\n",
       "      <td>1.417364</td>\n",
       "    </tr>\n",
       "    <tr>\n",
       "      <th>min</th>\n",
       "      <td>0.000000</td>\n",
       "      <td>0.000000</td>\n",
       "      <td>1.000000</td>\n",
       "      <td>0.000000</td>\n",
       "      <td>0.000000</td>\n",
       "      <td>0.000000</td>\n",
       "      <td>2.693000</td>\n",
       "      <td>0.000000</td>\n",
       "      <td>2015.000000</td>\n",
       "    </tr>\n",
       "    <tr>\n",
       "      <th>25%</th>\n",
       "      <td>0.309768</td>\n",
       "      <td>0.130000</td>\n",
       "      <td>40.000000</td>\n",
       "      <td>0.054250</td>\n",
       "      <td>0.606500</td>\n",
       "      <td>0.440183</td>\n",
       "      <td>4.509750</td>\n",
       "      <td>0.869363</td>\n",
       "      <td>2016.000000</td>\n",
       "    </tr>\n",
       "    <tr>\n",
       "      <th>50%</th>\n",
       "      <td>0.431000</td>\n",
       "      <td>0.201982</td>\n",
       "      <td>79.000000</td>\n",
       "      <td>0.091033</td>\n",
       "      <td>0.982205</td>\n",
       "      <td>0.647310</td>\n",
       "      <td>5.322000</td>\n",
       "      <td>1.124735</td>\n",
       "      <td>2017.000000</td>\n",
       "    </tr>\n",
       "    <tr>\n",
       "      <th>75%</th>\n",
       "      <td>0.531000</td>\n",
       "      <td>0.278832</td>\n",
       "      <td>118.000000</td>\n",
       "      <td>0.156243</td>\n",
       "      <td>1.236187</td>\n",
       "      <td>0.808000</td>\n",
       "      <td>6.189500</td>\n",
       "      <td>1.327250</td>\n",
       "      <td>2018.000000</td>\n",
       "    </tr>\n",
       "    <tr>\n",
       "      <th>max</th>\n",
       "      <td>0.724000</td>\n",
       "      <td>0.838075</td>\n",
       "      <td>158.000000</td>\n",
       "      <td>0.551910</td>\n",
       "      <td>2.096000</td>\n",
       "      <td>1.141000</td>\n",
       "      <td>7.769000</td>\n",
       "      <td>1.644000</td>\n",
       "      <td>2019.000000</td>\n",
       "    </tr>\n",
       "  </tbody>\n",
       "</table>\n",
       "</div>"
      ],
      "text/plain": [
       "          Freedom  Generosity  Happiness_Rank  Perceptions_of_corruption  \\\n",
       "count  782.000000  782.000000      782.000000                 782.000000   \n",
       "mean     0.411091    0.218576       78.698210                   0.125599   \n",
       "std      0.152880    0.122321       45.182384                   0.105847   \n",
       "min      0.000000    0.000000        1.000000                   0.000000   \n",
       "25%      0.309768    0.130000       40.000000                   0.054250   \n",
       "50%      0.431000    0.201982       79.000000                   0.091033   \n",
       "75%      0.531000    0.278832      118.000000                   0.156243   \n",
       "max      0.724000    0.838075      158.000000                   0.551910   \n",
       "\n",
       "       GDP_per_capita  Healthy_life_expectancy  Happiness_Score  \\\n",
       "count      782.000000               782.000000       782.000000   \n",
       "mean         0.916047                 0.612416         5.379018   \n",
       "std          0.407340                 0.248309         1.127456   \n",
       "min          0.000000                 0.000000         2.693000   \n",
       "25%          0.606500                 0.440183         4.509750   \n",
       "50%          0.982205                 0.647310         5.322000   \n",
       "75%          1.236187                 0.808000         6.189500   \n",
       "max          2.096000                 1.141000         7.769000   \n",
       "\n",
       "       Social_support         Year  \n",
       "count      782.000000   782.000000  \n",
       "mean         1.078392  2016.993606  \n",
       "std          0.329548     1.417364  \n",
       "min          0.000000  2015.000000  \n",
       "25%          0.869363  2016.000000  \n",
       "50%          1.124735  2017.000000  \n",
       "75%          1.327250  2018.000000  \n",
       "max          1.644000  2019.000000  "
      ]
     },
     "execution_count": 657,
     "metadata": {},
     "output_type": "execute_result"
    }
   ],
   "source": [
    "df.describe()"
   ]
  },
  {
   "cell_type": "code",
   "execution_count": 612,
   "id": "c83ae386",
   "metadata": {},
   "outputs": [
    {
     "name": "stdout",
     "output_type": "stream",
     "text": [
      "Asimetría:\n",
      " Happiness_Score              0.035859\n",
      "GDP_per_capita              -0.318581\n",
      "Social_support              -0.684632\n",
      "Healthy_life_expectancy     -0.501203\n",
      "Freedom                     -0.521259\n",
      "Generosity                   1.044360\n",
      "Perceptions_of_corruption    1.515219\n",
      "dtype: float64\n",
      "Curtosis:\n",
      " Happiness_Score             -0.761055\n",
      "GDP_per_capita              -0.692760\n",
      "Social_support               0.158449\n",
      "Healthy_life_expectancy     -0.487571\n",
      "Freedom                     -0.307205\n",
      "Generosity                   2.020258\n",
      "Perceptions_of_corruption    1.861421\n",
      "dtype: float64\n"
     ]
    }
   ],
   "source": [
    "# Seleccionar las columnas\n",
    "cols = ['Happiness_Score', 'GDP_per_capita', 'Social_support',\n",
    "        'Healthy_life_expectancy', 'Freedom', 'Generosity', 'Perceptions_of_corruption']\n",
    "\n",
    "skewness = df[cols].skew()\n",
    "kurtosis = df[cols].kurtosis()\n",
    "print(\"Asimetría:\\n\", skewness)\n",
    "print(\"Curtosis:\\n\", kurtosis)\n",
    "\n"
   ]
  },
  {
   "cell_type": "markdown",
   "id": "5fa8c454",
   "metadata": {},
   "source": [
    "### Valores atipicos "
   ]
  },
  {
   "cell_type": "code",
   "execution_count": 658,
   "id": "a1e74c5a",
   "metadata": {},
   "outputs": [
    {
     "name": "stdout",
     "output_type": "stream",
     "text": [
      "Valores atípicos en Happiness_Score: 0\n",
      "Valores atípicos en GDP_per_capita: 0\n",
      "Valores atípicos en Social_support: 10\n",
      "Valores atípicos en Healthy_life_expectancy: 0\n",
      "Valores atípicos en Freedom: 0\n",
      "Valores atípicos en Generosity: 17\n",
      "Valores atípicos en Perceptions_of_corruption: 67\n"
     ]
    }
   ],
   "source": [
    "def detect_outliers(df, column):\n",
    "    Q1 = df[column].quantile(0.25)\n",
    "    Q3 = df[column].quantile(0.75)\n",
    "    IQR = Q3 - Q1\n",
    "    lower_bound = Q1 - 1.5 * IQR\n",
    "    upper_bound = Q3 + 1.5 * IQR\n",
    "    outliers = df[(df[column] < lower_bound) | (df[column] > upper_bound)][column]\n",
    "    return len(outliers), outliers.index\n",
    "for col in ['Happiness_Score', 'GDP_per_capita', 'Social_support', 'Healthy_life_expectancy', 'Freedom', 'Generosity', 'Perceptions_of_corruption']:\n",
    "    count, indices = detect_outliers(df, col)\n",
    "    print(f\"Valores atípicos en {col}: {count}\")"
   ]
  },
  {
   "cell_type": "markdown",
   "id": "d24801f4",
   "metadata": {},
   "source": [
    "### Correlacion entre variables"
   ]
  },
  {
   "cell_type": "code",
   "execution_count": 614,
   "id": "8375c82f",
   "metadata": {},
   "outputs": [
    {
     "name": "stdout",
     "output_type": "stream",
     "text": [
      "<class 'pandas.core.frame.DataFrame'>\n",
      "RangeIndex: 782 entries, 0 to 781\n",
      "Data columns (total 10 columns):\n",
      " #   Column                     Non-Null Count  Dtype  \n",
      "---  ------                     --------------  -----  \n",
      " 0   Freedom                    782 non-null    float64\n",
      " 1   Generosity                 782 non-null    float64\n",
      " 2   Happiness_Rank             782 non-null    int64  \n",
      " 3   Country_or_region          782 non-null    object \n",
      " 4   Perceptions_of_corruption  782 non-null    float64\n",
      " 5   GDP_per_capita             782 non-null    float64\n",
      " 6   Healthy_life_expectancy    782 non-null    float64\n",
      " 7   Happiness_Score            782 non-null    float64\n",
      " 8   Social_support             782 non-null    float64\n",
      " 9   Year                       782 non-null    int64  \n",
      "dtypes: float64(7), int64(2), object(1)\n",
      "memory usage: 61.2+ KB\n"
     ]
    }
   ],
   "source": [
    "df.info()"
   ]
  },
  {
   "cell_type": "code",
   "execution_count": 615,
   "id": "45e3b8ed",
   "metadata": {},
   "outputs": [
    {
     "name": "stdout",
     "output_type": "stream",
     "text": [
      "Matriz de correlación:\n",
      "                            Happiness_Score  GDP_per_capita  Social_support  \\\n",
      "Happiness_Score                   1.000000        0.789284        0.648799   \n",
      "GDP_per_capita                    0.789284        1.000000        0.585966   \n",
      "Social_support                    0.648799        0.585966        1.000000   \n",
      "Healthy_life_expectancy           0.742456        0.784338        0.572650   \n",
      "Freedom                           0.551258        0.340511        0.420361   \n",
      "Generosity                        0.137578       -0.014560       -0.037262   \n",
      "Perceptions_of_corruption         0.399568        0.308850        0.124797   \n",
      "Happiness_Rank                   -0.992066       -0.794791       -0.644842   \n",
      "Year                              0.007065        0.019768        0.367431   \n",
      "\n",
      "                           Healthy_life_expectancy   Freedom  Generosity  \\\n",
      "Happiness_Score                           0.742456  0.551258    0.137578   \n",
      "GDP_per_capita                            0.784338  0.340511   -0.014560   \n",
      "Social_support                            0.572650  0.420361   -0.037262   \n",
      "Healthy_life_expectancy                   1.000000  0.340745    0.010638   \n",
      "Freedom                                   0.340745  1.000000    0.290706   \n",
      "Generosity                                0.010638  0.290706    1.000000   \n",
      "Perceptions_of_corruption                 0.250628  0.457676    0.318196   \n",
      "Happiness_Rank                           -0.743655 -0.537942   -0.117713   \n",
      "Year                                      0.130302  0.010353   -0.192587   \n",
      "\n",
      "                           Perceptions_of_corruption  Happiness_Rank      Year  \n",
      "Happiness_Score                             0.399568       -0.992066  0.007065  \n",
      "GDP_per_capita                              0.308850       -0.794791  0.019768  \n",
      "Social_support                              0.124797       -0.644842  0.367431  \n",
      "Healthy_life_expectancy                     0.250628       -0.743655  0.130302  \n",
      "Freedom                                     0.457676       -0.537942  0.010353  \n",
      "Generosity                                  0.318196       -0.117713 -0.192587  \n",
      "Perceptions_of_corruption                   1.000000       -0.374038 -0.121013  \n",
      "Happiness_Rank                             -0.374038        1.000000 -0.007768  \n",
      "Year                                       -0.121013       -0.007768  1.000000  \n"
     ]
    }
   ],
   "source": [
    "correlation_matrix = df[['Happiness_Score', 'GDP_per_capita', 'Social_support', 'Healthy_life_expectancy', 'Freedom', 'Generosity', 'Perceptions_of_corruption','Happiness_Rank', 'Year']].corr()\n",
    "print(\"Matriz de correlación:\\n\", correlation_matrix)"
   ]
  },
  {
   "cell_type": "code",
   "execution_count": 616,
   "id": "fabe7255",
   "metadata": {},
   "outputs": [
    {
     "name": "stdout",
     "output_type": "stream",
     "text": [
      "Asimetría de Perceptions_of_corruption_boxcox: 0.06363832521739689\n"
     ]
    }
   ],
   "source": [
    "df['Perceptions_of_corruption_shifted'] = df['Perceptions_of_corruption'] + 1e-6\n",
    "df['Perceptions_of_corruption_boxcox'], _ = boxcox(df['Perceptions_of_corruption_shifted'])\n",
    "print(\"Asimetría de Perceptions_of_corruption_boxcox:\", df['Perceptions_of_corruption_boxcox'].skew())"
   ]
  },
  {
   "cell_type": "code",
   "execution_count": 617,
   "id": "ce4ef07e",
   "metadata": {},
   "outputs": [
    {
     "name": "stdout",
     "output_type": "stream",
     "text": [
      "Varianza explicada por Economic_Health_Index: 0.8921687852845073\n",
      "Columnas en df:\n",
      " ['Economic_Health_Index', 'Social_support', 'Freedom', 'Perceptions_of_corruption_boxcox', 'Country_Avg_Happiness', 'Country_Avg_Perceptions_of_corruption_boxcox', 'Region_Avg_Happiness', 'Region_Avg_Perceptions_of_corruption_boxcox', 'Economic_Social_Interaction', 'Year_2015', 'Year_2016', 'Year_2017', 'Year_2018', 'Year_2019', 'Happiness_Score']\n"
     ]
    },
    {
     "name": "stderr",
     "output_type": "stream",
     "text": [
      "C:\\Users\\Michel Burgos\\AppData\\Local\\Temp\\ipykernel_10784\\2419816081.py:74: FutureWarning: Series.fillna with 'method' is deprecated and will raise in a future version. Use obj.ffill() or obj.bfill() instead.\n",
      "  return group[col].shift().rolling(window=len(group), min_periods=1).mean().fillna(method='ffill')\n",
      "C:\\Users\\Michel Burgos\\AppData\\Local\\Temp\\ipykernel_10784\\2419816081.py:77: DeprecationWarning: DataFrameGroupBy.apply operated on the grouping columns. This behavior is deprecated, and in a future version of pandas the grouping columns will be excluded from the operation. Either pass `include_groups=False` to exclude the groupings or explicitly select the grouping columns after groupby to silence this warning.\n",
      "  df['Country_Avg_Happiness'] = df.groupby('Country_or_region').apply(\n",
      "C:\\Users\\Michel Burgos\\AppData\\Local\\Temp\\ipykernel_10784\\2419816081.py:74: FutureWarning: Series.fillna with 'method' is deprecated and will raise in a future version. Use obj.ffill() or obj.bfill() instead.\n",
      "  return group[col].shift().rolling(window=len(group), min_periods=1).mean().fillna(method='ffill')\n",
      "C:\\Users\\Michel Burgos\\AppData\\Local\\Temp\\ipykernel_10784\\2419816081.py:80: DeprecationWarning: DataFrameGroupBy.apply operated on the grouping columns. This behavior is deprecated, and in a future version of pandas the grouping columns will be excluded from the operation. Either pass `include_groups=False` to exclude the groupings or explicitly select the grouping columns after groupby to silence this warning.\n",
      "  df['Region_Avg_Happiness'] = df.groupby('Region').apply(\n",
      "C:\\Users\\Michel Burgos\\AppData\\Local\\Temp\\ipykernel_10784\\2419816081.py:74: FutureWarning: Series.fillna with 'method' is deprecated and will raise in a future version. Use obj.ffill() or obj.bfill() instead.\n",
      "  return group[col].shift().rolling(window=len(group), min_periods=1).mean().fillna(method='ffill')\n",
      "C:\\Users\\Michel Burgos\\AppData\\Local\\Temp\\ipykernel_10784\\2419816081.py:83: DeprecationWarning: DataFrameGroupBy.apply operated on the grouping columns. This behavior is deprecated, and in a future version of pandas the grouping columns will be excluded from the operation. Either pass `include_groups=False` to exclude the groupings or explicitly select the grouping columns after groupby to silence this warning.\n",
      "  df['Country_Avg_Perceptions_of_corruption_boxcox'] = df.groupby('Country_or_region').apply(\n",
      "C:\\Users\\Michel Burgos\\AppData\\Local\\Temp\\ipykernel_10784\\2419816081.py:74: FutureWarning: Series.fillna with 'method' is deprecated and will raise in a future version. Use obj.ffill() or obj.bfill() instead.\n",
      "  return group[col].shift().rolling(window=len(group), min_periods=1).mean().fillna(method='ffill')\n",
      "C:\\Users\\Michel Burgos\\AppData\\Local\\Temp\\ipykernel_10784\\2419816081.py:86: DeprecationWarning: DataFrameGroupBy.apply operated on the grouping columns. This behavior is deprecated, and in a future version of pandas the grouping columns will be excluded from the operation. Either pass `include_groups=False` to exclude the groupings or explicitly select the grouping columns after groupby to silence this warning.\n",
      "  df['Region_Avg_Perceptions_of_corruption_boxcox'] = df.groupby('Region').apply(\n"
     ]
    }
   ],
   "source": [
    "from sklearn.decomposition import PCA\n",
    "from sklearn.preprocessing import StandardScaler\n",
    "\n",
    "region_mapping = {\n",
    "    'Switzerland': 'Western Europe', 'Iceland': 'Western Europe', 'Denmark': 'Western Europe', 'Norway': 'Western Europe',\n",
    "    'Finland': 'Western Europe', 'Netherlands': 'Western Europe', 'Sweden': 'Western Europe', 'Austria': 'Western Europe',\n",
    "    'Luxembourg': 'Western Europe', 'Ireland': 'Western Europe', 'Belgium': 'Western Europe', 'United Kingdom': 'Western Europe',\n",
    "    'Germany': 'Western Europe', 'France': 'Western Europe', 'Spain': 'Western Europe', 'Malta': 'Western Europe',\n",
    "    'Italy': 'Western Europe', 'Slovenia': 'Western Europe', 'Portugal': 'Western Europe', 'Greece': 'Western Europe',\n",
    "    'Canada': 'North America', 'United States': 'North America', 'Puerto Rico': 'North America',\n",
    "    'New Zealand': 'Australia and New Zealand', 'Australia': 'Australia and New Zealand',\n",
    "    'Israel': 'Middle East and Northern Africa', 'United Arab Emirates': 'Middle East and Northern Africa',\n",
    "    'Oman': 'Middle East and Northern Africa', 'Qatar': 'Middle East and Northern Africa', 'Saudi Arabia': 'Middle East and Northern Africa',\n",
    "    'Kuwait': 'Middle East and Northern Africa', 'Bahrain': 'Middle East and Northern Africa', 'Libya': 'Middle East and Northern Africa',\n",
    "    'Algeria': 'Middle East and Northern Africa', 'Turkey': 'Middle East and Northern Africa', 'Jordan': 'Middle East and Northern Africa',\n",
    "    'Morocco': 'Middle East and Northern Africa', 'Tunisia': 'Middle East and Northern Africa', 'Palestinian Territories': 'Middle East and Northern Africa',\n",
    "    'Iran': 'Middle East and Northern Africa', 'Iraq': 'Middle East and Northern Africa', 'Egypt': 'Middle East and Northern Africa',\n",
    "    'Yemen': 'Middle East and Northern Africa', 'Lebanon': 'Middle East and Northern Africa', 'Syria': 'Middle East and Northern Africa',\n",
    "    'Costa Rica': 'Latin America and Caribbean', 'Mexico': 'Latin America and Caribbean', 'Brazil': 'Latin America and Caribbean',\n",
    "    'Venezuela': 'Latin America and Caribbean', 'Panama': 'Latin America and Caribbean', 'Chile': 'Latin America and Caribbean',\n",
    "    'Argentina': 'Latin America and Caribbean', 'Uruguay': 'Latin America and Caribbean', 'Colombia': 'Latin America and Caribbean',\n",
    "    'Suriname': 'Latin America and Caribbean', 'Trinidad and Tobago': 'Latin America and Caribbean', 'El Salvador': 'Latin America and Caribbean',\n",
    "    'Guatemala': 'Latin America and Caribbean', 'Ecuador': 'Latin America and Caribbean', 'Bolivia': 'Latin America and Caribbean',\n",
    "    'Paraguay': 'Latin America and Caribbean', 'Nicaragua': 'Latin America and Caribbean', 'Peru': 'Latin America and Caribbean',\n",
    "    'Jamaica': 'Latin America and Caribbean', 'Dominican Republic': 'Latin America and Caribbean', 'Honduras': 'Latin America and Caribbean',\n",
    "    'Haiti': 'Latin America and Caribbean', 'Belize': 'Latin America and Caribbean', 'Trinidad & Tobago': 'Latin America and Caribbean',\n",
    "    'Singapore': 'Southeastern Asia', 'Thailand': 'Southeastern Asia', 'Malaysia': 'Southeastern Asia', 'Indonesia': 'Southeastern Asia',\n",
    "    'Vietnam': 'Southeastern Asia', 'Philippines': 'Southeastern Asia', 'Laos': 'Southeastern Asia', 'Cambodia': 'Southeastern Asia',\n",
    "    'Myanmar': 'Southeastern Asia',\n",
    "    'Czech Republic': 'Central and Eastern Europe', 'Uzbekistan': 'Central and Eastern Europe', 'Slovakia': 'Central and Eastern Europe',\n",
    "    'Kazakhstan': 'Central and Eastern Europe', 'Moldova': 'Central and Eastern Europe', 'Belarus': 'Central and Eastern Europe',\n",
    "    'Poland': 'Central and Eastern Europe', 'Croatia': 'Central and Eastern Europe', 'Russia': 'Central and Eastern Europe',\n",
    "    'North Cyprus': 'Central and Eastern Europe', 'Cyprus': 'Central and Eastern Europe', 'Kosovo': 'Central and Eastern Europe',\n",
    "    'Turkmenistan': 'Central and Eastern Europe', 'Estonia': 'Central and Eastern Europe', 'Kyrgyzstan': 'Central and Eastern Europe',\n",
    "    'Azerbaijan': 'Central and Eastern Europe', 'Montenegro': 'Central and Eastern Europe', 'Romania': 'Central and Eastern Europe',\n",
    "    'Serbia': 'Central and Eastern Europe', 'Latvia': 'Central and Eastern Europe', 'Macedonia': 'Central and Eastern Europe',\n",
    "    'Albania': 'Central and Eastern Europe', 'Bosnia and Herzegovina': 'Central and Eastern Europe', 'Hungary': 'Central and Eastern Europe',\n",
    "    'Ukraine': 'Central and Eastern Europe', 'Bulgaria': 'Central and Eastern Europe', 'Armenia': 'Central and Eastern Europe',\n",
    "    'Georgia': 'Central and Eastern Europe', 'Tajikistan': 'Central and Eastern Europe', 'Northern Cyprus': 'Central and Eastern Europe',\n",
    "    'North Macedonia': 'Central and Eastern Europe',\n",
    "    'Taiwan': 'Eastern Asia', 'Japan': 'Eastern Asia', 'South Korea': 'Eastern Asia', 'Hong Kong': 'Eastern Asia',\n",
    "    'China': 'Eastern Asia', 'Mongolia': 'Eastern Asia', 'Taiwan Province of China': 'Eastern Asia',\n",
    "    'Hong Kong S.A.R., China': 'Eastern Asia',\n",
    "    'Nigeria': 'Sub-Saharan Africa', 'Zambia': 'Sub-Saharan Africa', 'Mozambique': 'Sub-Saharan Africa', 'Lesotho': 'Sub-Saharan Africa',\n",
    "    'Swaziland': 'Sub-Saharan Africa', 'South Africa': 'Sub-Saharan Africa', 'Ghana': 'Sub-Saharan Africa', 'Zimbabwe': 'Sub-Saharan Africa',\n",
    "    'Liberia': 'Sub-Saharan Africa', 'Sudan': 'Sub-Saharan Africa', 'Congo (Kinshasa)': 'Sub-Saharan Africa', 'Ethiopia': 'Sub-Saharan Africa',\n",
    "    'Sierra Leone': 'Sub-Saharan Africa', 'Mauritania': 'Sub-Saharan Africa', 'Kenya': 'Sub-Saharan Africa', 'Djibouti': 'Sub-Saharan Africa',\n",
    "    'Botswana': 'Sub-Saharan Africa', 'Malawi': 'Sub-Saharan Africa', 'Cameroon': 'Sub-Saharan Africa', 'Angola': 'Sub-Saharan Africa',\n",
    "    'Mali': 'Sub-Saharan Africa', 'Congo (Brazzaville)': 'Sub-Saharan Africa', 'Comoros': 'Sub-Saharan Africa', 'Uganda': 'Sub-Saharan Africa',\n",
    "    'Senegal': 'Sub-Saharan Africa', 'Gabon': 'Sub-Saharan Africa', 'Niger': 'Sub-Saharan Africa', 'Tanzania': 'Sub-Saharan Africa',\n",
    "    'Madagascar': 'Sub-Saharan Africa', 'Central African Republic': 'Sub-Saharan Africa', 'Chad': 'Sub-Saharan Africa',\n",
    "    'Guinea': 'Sub-Saharan Africa', 'Ivory Coast': 'Sub-Saharan Africa', 'Burkina Faso': 'Sub-Saharan Africa', 'Rwanda': 'Sub-Saharan Africa',\n",
    "    'Benin': 'Sub-Saharan Africa', 'Burundi': 'Sub-Saharan Africa', 'Togo': 'Sub-Saharan Africa', 'Mauritius': 'Sub-Saharan Africa',\n",
    "    'Somalia': 'Sub-Saharan Africa', 'Namibia': 'Sub-Saharan Africa', 'South Sudan': 'Sub-Saharan Africa', 'Somaliland Region': 'Sub-Saharan Africa',\n",
    "    'Gambia': 'Sub-Saharan Africa',\n",
    "    'Bhutan': 'Southern Asia', 'Pakistan': 'Southern Asia', 'Bangladesh': 'Southern Asia', 'India': 'Southern Asia',\n",
    "    'Nepal': 'Southern Asia', 'Sri Lanka': 'Southern Asia', 'Afghanistan': 'Southern Asia', 'Lithuania': 'Central and Eastern Europe', 'Somaliland region': 'Sub-Saharan Africa'\n",
    "}\n",
    "\n",
    "df['Region'] = df['Country_or_region'].map(region_mapping)\n",
    "\n",
    "# PCA para GDP_per_capita y Healthy_life_expectancy\n",
    "pca_cols = ['GDP_per_capita', 'Healthy_life_expectancy']\n",
    "pca_data = df[pca_cols]\n",
    "scaler = StandardScaler()\n",
    "pca_data_scaled = scaler.fit_transform(pca_data)\n",
    "pca = PCA(n_components=1)\n",
    "df['Economic_Health_Index'] = pca.fit_transform(pca_data_scaled)[:, 0]\n",
    "print(\"Varianza explicada por Economic_Health_Index:\", pca.explained_variance_ratio_[0])\n",
    "\n",
    "# Variables derivadas de Country_or_region y Region\n",
    "# Define function to calculate averages excluding current row\n",
    "def calc_avg_excluding_current(group, col):\n",
    "    return group[col].shift().rolling(window=len(group), min_periods=1).mean().fillna(method='ffill')\n",
    "\n",
    "# Calculate averages excluding current row\n",
    "df['Country_Avg_Happiness'] = df.groupby('Country_or_region').apply(\n",
    "    lambda g: calc_avg_excluding_current(g, 'Happiness_Score')\n",
    ").reset_index(level=0, drop=True)\n",
    "df['Region_Avg_Happiness'] = df.groupby('Region').apply(\n",
    "    lambda g: calc_avg_excluding_current(g, 'Happiness_Score')\n",
    ").reset_index(level=0, drop=True)\n",
    "df['Country_Avg_Perceptions_of_corruption_boxcox'] = df.groupby('Country_or_region').apply(\n",
    "    lambda g: calc_avg_excluding_current(g, 'Perceptions_of_corruption_boxcox')\n",
    ").reset_index(level=0, drop=True)\n",
    "df['Region_Avg_Perceptions_of_corruption_boxcox'] = df.groupby('Region').apply(\n",
    "    lambda g: calc_avg_excluding_current(g, 'Perceptions_of_corruption_boxcox')\n",
    ").reset_index(level=0, drop=True)\n",
    "\n",
    "\n",
    "# Interacción entre Economic_Health_Index y Social_support\n",
    "df['Economic_Social_Interaction'] = df['Economic_Health_Index'] * df['Social_support']\n",
    "\n",
    "# One-Hot Encoding para Year\n",
    "df = pd.get_dummies(df, columns=['Year'], prefix='Year')\n",
    "\n",
    "# 6. Reducir df a las columnas deseadas\n",
    "features = [\n",
    "    'Economic_Health_Index', 'Social_support', 'Freedom',\n",
    "    'Perceptions_of_corruption_boxcox',\n",
    "    'Country_Avg_Happiness', 'Country_Avg_Perceptions_of_corruption_boxcox',\n",
    "    'Region_Avg_Happiness', 'Region_Avg_Perceptions_of_corruption_boxcox',\n",
    "    'Economic_Social_Interaction',\n",
    "    'Year_2015', 'Year_2016', 'Year_2017', 'Year_2018', 'Year_2019'\n",
    "]\n",
    "df = df[features + ['Happiness_Score']]\n",
    "print(\"Columnas en df:\\n\", df.columns.tolist())"
   ]
  },
  {
   "cell_type": "code",
   "execution_count": 661,
   "id": "c3397e63",
   "metadata": {},
   "outputs": [
    {
     "name": "stdout",
     "output_type": "stream",
     "text": [
      "\n",
      "Guardado en 'data/clean_dataset.csv'\n"
     ]
    }
   ],
   "source": [
    "df.to_csv('../data/clean_dataset.csv', index=False)\n",
    "print(\"\\nGuardado en 'data/clean_dataset.csv'\")"
   ]
  },
  {
   "cell_type": "code",
   "execution_count": null,
   "id": "210b9f2e",
   "metadata": {},
   "outputs": [],
   "source": []
  },
  {
   "cell_type": "code",
   "execution_count": 156,
   "id": "d4142cce",
   "metadata": {},
   "outputs": [
    {
     "name": "stdout",
     "output_type": "stream",
     "text": [
      "Varianza explicada por PCA: [0.89216879 0.10783121]\n",
      "Suma de varianza explicada: 1.0\n",
      "Correlaciones con Happiness_Score (PCA):\n",
      " Happiness_Score          1.000000\n",
      "Economic_Health_Index    0.810833\n",
      "Name: Happiness_Score, dtype: float64\n"
     ]
    }
   ],
   "source": [
    "from sklearn.decomposition import PCA\n",
    "from sklearn.preprocessing import StandardScaler\n",
    "\n",
    "# PCA para GDP_per_capita y Healthy_life_expectancy\n",
    "pca_cols = ['GDP_per_capita', 'Healthy_life_expectancy']\n",
    "pca_data = df[pca_cols]\n",
    "scaler = StandardScaler()\n",
    "pca_data_scaled = scaler.fit_transform(pca_data)\n",
    "pca = PCA(n_components=2)\n",
    "pca_result = pca.fit_transform(pca_data_scaled)\n",
    "\n",
    "# Renombrar PCA_Component_1 a Economic_Health_Index\n",
    "df['Economic_Health_Index'] = pca_result[:, 0]  # Primer componente\n",
    "# No incluir PCA_Component_2\n",
    "print(\"Varianza explicada por PCA:\", pca.explained_variance_ratio_)\n",
    "print(\"Suma de varianza explicada:\", sum(pca.explained_variance_ratio_))\n",
    "\n",
    "# Calcular correlación de componentes con Happiness_Score\n",
    "correlation_matrix = df[['Happiness_Score', 'Economic_Health_Index']].corr()\n",
    "print(\"Correlaciones con Happiness_Score (PCA):\\n\", correlation_matrix['Happiness_Score'])"
   ]
  },
  {
   "cell_type": "code",
   "execution_count": 157,
   "id": "4e45af02",
   "metadata": {},
   "outputs": [
    {
     "data": {
      "text/html": [
       "<div>\n",
       "<style scoped>\n",
       "    .dataframe tbody tr th:only-of-type {\n",
       "        vertical-align: middle;\n",
       "    }\n",
       "\n",
       "    .dataframe tbody tr th {\n",
       "        vertical-align: top;\n",
       "    }\n",
       "\n",
       "    .dataframe thead th {\n",
       "        text-align: right;\n",
       "    }\n",
       "</style>\n",
       "<table border=\"1\" class=\"dataframe\">\n",
       "  <thead>\n",
       "    <tr style=\"text-align: right;\">\n",
       "      <th></th>\n",
       "      <th>Freedom</th>\n",
       "      <th>Generosity</th>\n",
       "      <th>Happiness_Rank</th>\n",
       "      <th>Country_or_region</th>\n",
       "      <th>Perceptions_of_corruption</th>\n",
       "      <th>GDP_per_capita</th>\n",
       "      <th>Healthy_life_expectancy</th>\n",
       "      <th>Happiness_Score</th>\n",
       "      <th>Social_support</th>\n",
       "      <th>Year</th>\n",
       "      <th>Economic_Health_Index</th>\n",
       "    </tr>\n",
       "  </thead>\n",
       "  <tbody>\n",
       "    <tr>\n",
       "      <th>0</th>\n",
       "      <td>0.66557</td>\n",
       "      <td>0.29678</td>\n",
       "      <td>1</td>\n",
       "      <td>Switzerland</td>\n",
       "      <td>0.41978</td>\n",
       "      <td>1.39651</td>\n",
       "      <td>0.94143</td>\n",
       "      <td>7.587</td>\n",
       "      <td>1.34951</td>\n",
       "      <td>2015</td>\n",
       "      <td>1.772106</td>\n",
       "    </tr>\n",
       "    <tr>\n",
       "      <th>1</th>\n",
       "      <td>0.62877</td>\n",
       "      <td>0.43630</td>\n",
       "      <td>2</td>\n",
       "      <td>Iceland</td>\n",
       "      <td>0.14145</td>\n",
       "      <td>1.30232</td>\n",
       "      <td>0.94784</td>\n",
       "      <td>7.561</td>\n",
       "      <td>1.40223</td>\n",
       "      <td>2015</td>\n",
       "      <td>1.626761</td>\n",
       "    </tr>\n",
       "    <tr>\n",
       "      <th>2</th>\n",
       "      <td>0.64938</td>\n",
       "      <td>0.34139</td>\n",
       "      <td>3</td>\n",
       "      <td>Denmark</td>\n",
       "      <td>0.48357</td>\n",
       "      <td>1.32548</td>\n",
       "      <td>0.87464</td>\n",
       "      <td>7.527</td>\n",
       "      <td>1.36058</td>\n",
       "      <td>2015</td>\n",
       "      <td>1.458406</td>\n",
       "    </tr>\n",
       "    <tr>\n",
       "      <th>3</th>\n",
       "      <td>0.66973</td>\n",
       "      <td>0.34699</td>\n",
       "      <td>4</td>\n",
       "      <td>Norway</td>\n",
       "      <td>0.36503</td>\n",
       "      <td>1.45900</td>\n",
       "      <td>0.88521</td>\n",
       "      <td>7.522</td>\n",
       "      <td>1.33095</td>\n",
       "      <td>2015</td>\n",
       "      <td>1.720453</td>\n",
       "    </tr>\n",
       "    <tr>\n",
       "      <th>4</th>\n",
       "      <td>0.63297</td>\n",
       "      <td>0.45811</td>\n",
       "      <td>5</td>\n",
       "      <td>Canada</td>\n",
       "      <td>0.32957</td>\n",
       "      <td>1.32629</td>\n",
       "      <td>0.90563</td>\n",
       "      <td>7.427</td>\n",
       "      <td>1.32261</td>\n",
       "      <td>2015</td>\n",
       "      <td>1.548120</td>\n",
       "    </tr>\n",
       "  </tbody>\n",
       "</table>\n",
       "</div>"
      ],
      "text/plain": [
       "   Freedom  Generosity  Happiness_Rank Country_or_region  \\\n",
       "0  0.66557     0.29678               1       Switzerland   \n",
       "1  0.62877     0.43630               2           Iceland   \n",
       "2  0.64938     0.34139               3           Denmark   \n",
       "3  0.66973     0.34699               4            Norway   \n",
       "4  0.63297     0.45811               5            Canada   \n",
       "\n",
       "   Perceptions_of_corruption  GDP_per_capita  Healthy_life_expectancy  \\\n",
       "0                    0.41978         1.39651                  0.94143   \n",
       "1                    0.14145         1.30232                  0.94784   \n",
       "2                    0.48357         1.32548                  0.87464   \n",
       "3                    0.36503         1.45900                  0.88521   \n",
       "4                    0.32957         1.32629                  0.90563   \n",
       "\n",
       "   Happiness_Score  Social_support  Year  Economic_Health_Index  \n",
       "0            7.587         1.34951  2015               1.772106  \n",
       "1            7.561         1.40223  2015               1.626761  \n",
       "2            7.527         1.36058  2015               1.458406  \n",
       "3            7.522         1.33095  2015               1.720453  \n",
       "4            7.427         1.32261  2015               1.548120  "
      ]
     },
     "execution_count": 157,
     "metadata": {},
     "output_type": "execute_result"
    }
   ],
   "source": [
    "df.head()"
   ]
  },
  {
   "cell_type": "markdown",
   "id": "9a19b76c",
   "metadata": {},
   "source": [
    "### Agrupar paises "
   ]
  },
  {
   "cell_type": "code",
   "execution_count": 660,
   "id": "d29d031f",
   "metadata": {},
   "outputs": [
    {
     "name": "stdout",
     "output_type": "stream",
     "text": [
      "Regiones únicas: ['Western Europe' 'North America' 'Australia and New Zealand'\n",
      " 'Middle East and Northern Africa' 'Latin America and Caribbean'\n",
      " 'Southeastern Asia' 'Central and Eastern Europe' 'Eastern Asia'\n",
      " 'Sub-Saharan Africa' 'Southern Asia']\n",
      "Distribución de regiones:\n",
      " Region\n",
      "Sub-Saharan Africa                 196\n",
      "Central and Eastern Europe         150\n",
      "Latin America and Caribbean        110\n",
      "Western Europe                     100\n",
      "Middle East and Northern Africa     96\n",
      "Southeastern Asia                   44\n",
      "Southern Asia                       35\n",
      "Eastern Asia                        30\n",
      "North America                       11\n",
      "Australia and New Zealand           10\n",
      "Name: count, dtype: int64\n"
     ]
    }
   ],
   "source": [
    "# Diccionario de mapeo de países a regiones\n",
    "region_mapping = {\n",
    "    'Switzerland': 'Western Europe', 'Iceland': 'Western Europe', 'Denmark': 'Western Europe', 'Norway': 'Western Europe',\n",
    "    'Finland': 'Western Europe', 'Netherlands': 'Western Europe', 'Sweden': 'Western Europe', 'Austria': 'Western Europe',\n",
    "    'Luxembourg': 'Western Europe', 'Ireland': 'Western Europe', 'Belgium': 'Western Europe', 'United Kingdom': 'Western Europe',\n",
    "    'Germany': 'Western Europe', 'France': 'Western Europe', 'Spain': 'Western Europe', 'Malta': 'Western Europe',\n",
    "    'Italy': 'Western Europe', 'Slovenia': 'Western Europe', 'Portugal': 'Western Europe', 'Greece': 'Western Europe',\n",
    "    'Canada': 'North America', 'United States': 'North America', 'Puerto Rico': 'North America',\n",
    "    'New Zealand': 'Australia and New Zealand', 'Australia': 'Australia and New Zealand',\n",
    "    'Israel': 'Middle East and Northern Africa', 'United Arab Emirates': 'Middle East and Northern Africa',\n",
    "    'Oman': 'Middle East and Northern Africa', 'Qatar': 'Middle East and Northern Africa', 'Saudi Arabia': 'Middle East and Northern Africa',\n",
    "    'Kuwait': 'Middle East and Northern Africa', 'Bahrain': 'Middle East and Northern Africa', 'Libya': 'Middle East and Northern Africa',\n",
    "    'Algeria': 'Middle East and Northern Africa', 'Turkey': 'Middle East and Northern Africa', 'Jordan': 'Middle East and Northern Africa',\n",
    "    'Morocco': 'Middle East and Northern Africa', 'Tunisia': 'Middle East and Northern Africa', 'Palestinian Territories': 'Middle East and Northern Africa',\n",
    "    'Iran': 'Middle East and Northern Africa', 'Iraq': 'Middle East and Northern Africa', 'Egypt': 'Middle East and Northern Africa',\n",
    "    'Yemen': 'Middle East and Northern Africa', 'Lebanon': 'Middle East and Northern Africa', 'Syria': 'Middle East and Northern Africa',\n",
    "    'Costa Rica': 'Latin America and Caribbean', 'Mexico': 'Latin America and Caribbean', 'Brazil': 'Latin America and Caribbean',\n",
    "    'Venezuela': 'Latin America and Caribbean', 'Panama': 'Latin America and Caribbean', 'Chile': 'Latin America and Caribbean',\n",
    "    'Argentina': 'Latin America and Caribbean', 'Uruguay': 'Latin America and Caribbean', 'Colombia': 'Latin America and Caribbean',\n",
    "    'Suriname': 'Latin America and Caribbean', 'Trinidad and Tobago': 'Latin America and Caribbean', 'El Salvador': 'Latin America and Caribbean',\n",
    "    'Guatemala': 'Latin America and Caribbean', 'Ecuador': 'Latin America and Caribbean', 'Bolivia': 'Latin America and Caribbean',\n",
    "    'Paraguay': 'Latin America and Caribbean', 'Nicaragua': 'Latin America and Caribbean', 'Peru': 'Latin America and Caribbean',\n",
    "    'Jamaica': 'Latin America and Caribbean', 'Dominican Republic': 'Latin America and Caribbean', 'Honduras': 'Latin America and Caribbean',\n",
    "    'Haiti': 'Latin America and Caribbean', 'Belize': 'Latin America and Caribbean', 'Trinidad & Tobago': 'Latin America and Caribbean',\n",
    "    'Singapore': 'Southeastern Asia', 'Thailand': 'Southeastern Asia', 'Malaysia': 'Southeastern Asia', 'Indonesia': 'Southeastern Asia',\n",
    "    'Vietnam': 'Southeastern Asia', 'Philippines': 'Southeastern Asia', 'Laos': 'Southeastern Asia', 'Cambodia': 'Southeastern Asia',\n",
    "    'Myanmar': 'Southeastern Asia',\n",
    "    'Czech Republic': 'Central and Eastern Europe', 'Uzbekistan': 'Central and Eastern Europe', 'Slovakia': 'Central and Eastern Europe',\n",
    "    'Kazakhstan': 'Central and Eastern Europe', 'Moldova': 'Central and Eastern Europe', 'Belarus': 'Central and Eastern Europe',\n",
    "    'Poland': 'Central and Eastern Europe', 'Croatia': 'Central and Eastern Europe', 'Russia': 'Central and Eastern Europe',\n",
    "    'North Cyprus': 'Central and Eastern Europe', 'Cyprus': 'Central and Eastern Europe', 'Kosovo': 'Central and Eastern Europe',\n",
    "    'Turkmenistan': 'Central and Eastern Europe', 'Estonia': 'Central and Eastern Europe', 'Kyrgyzstan': 'Central and Eastern Europe',\n",
    "    'Azerbaijan': 'Central and Eastern Europe', 'Montenegro': 'Central and Eastern Europe', 'Romania': 'Central and Eastern Europe',\n",
    "    'Serbia': 'Central and Eastern Europe', 'Latvia': 'Central and Eastern Europe', 'Macedonia': 'Central and Eastern Europe',\n",
    "    'Albania': 'Central and Eastern Europe', 'Bosnia and Herzegovina': 'Central and Eastern Europe', 'Hungary': 'Central and Eastern Europe',\n",
    "    'Ukraine': 'Central and Eastern Europe', 'Bulgaria': 'Central and Eastern Europe', 'Armenia': 'Central and Eastern Europe',\n",
    "    'Georgia': 'Central and Eastern Europe', 'Tajikistan': 'Central and Eastern Europe', 'Northern Cyprus': 'Central and Eastern Europe',\n",
    "    'North Macedonia': 'Central and Eastern Europe',\n",
    "    'Taiwan': 'Eastern Asia', 'Japan': 'Eastern Asia', 'South Korea': 'Eastern Asia', 'Hong Kong': 'Eastern Asia',\n",
    "    'China': 'Eastern Asia', 'Mongolia': 'Eastern Asia', 'Taiwan Province of China': 'Eastern Asia',\n",
    "    'Hong Kong S.A.R., China': 'Eastern Asia',\n",
    "    'Nigeria': 'Sub-Saharan Africa', 'Zambia': 'Sub-Saharan Africa', 'Mozambique': 'Sub-Saharan Africa', 'Lesotho': 'Sub-Saharan Africa',\n",
    "    'Swaziland': 'Sub-Saharan Africa', 'South Africa': 'Sub-Saharan Africa', 'Ghana': 'Sub-Saharan Africa', 'Zimbabwe': 'Sub-Saharan Africa',\n",
    "    'Liberia': 'Sub-Saharan Africa', 'Sudan': 'Sub-Saharan Africa', 'Congo (Kinshasa)': 'Sub-Saharan Africa', 'Ethiopia': 'Sub-Saharan Africa',\n",
    "    'Sierra Leone': 'Sub-Saharan Africa', 'Mauritania': 'Sub-Saharan Africa', 'Kenya': 'Sub-Saharan Africa', 'Djibouti': 'Sub-Saharan Africa',\n",
    "    'Botswana': 'Sub-Saharan Africa', 'Malawi': 'Sub-Saharan Africa', 'Cameroon': 'Sub-Saharan Africa', 'Angola': 'Sub-Saharan Africa',\n",
    "    'Mali': 'Sub-Saharan Africa', 'Congo (Brazzaville)': 'Sub-Saharan Africa', 'Comoros': 'Sub-Saharan Africa', 'Uganda': 'Sub-Saharan Africa',\n",
    "    'Senegal': 'Sub-Saharan Africa', 'Gabon': 'Sub-Saharan Africa', 'Niger': 'Sub-Saharan Africa', 'Tanzania': 'Sub-Saharan Africa',\n",
    "    'Madagascar': 'Sub-Saharan Africa', 'Central African Republic': 'Sub-Saharan Africa', 'Chad': 'Sub-Saharan Africa',\n",
    "    'Guinea': 'Sub-Saharan Africa', 'Ivory Coast': 'Sub-Saharan Africa', 'Burkina Faso': 'Sub-Saharan Africa', 'Rwanda': 'Sub-Saharan Africa',\n",
    "    'Benin': 'Sub-Saharan Africa', 'Burundi': 'Sub-Saharan Africa', 'Togo': 'Sub-Saharan Africa', 'Mauritius': 'Sub-Saharan Africa',\n",
    "    'Somalia': 'Sub-Saharan Africa', 'Namibia': 'Sub-Saharan Africa', 'South Sudan': 'Sub-Saharan Africa', 'Somaliland Region': 'Sub-Saharan Africa',\n",
    "    'Gambia': 'Sub-Saharan Africa',\n",
    "    'Bhutan': 'Southern Asia', 'Pakistan': 'Southern Asia', 'Bangladesh': 'Southern Asia', 'India': 'Southern Asia',\n",
    "    'Nepal': 'Southern Asia', 'Sri Lanka': 'Southern Asia', 'Afghanistan': 'Southern Asia', 'Lithuania': 'Central and Eastern Europe', 'Somaliland region': 'Sub-Saharan Africa'\n",
    "}\n",
    "\n",
    "# Agregar columna Region\n",
    "df['Region'] = df['Country_or_region'].map(region_mapping)\n",
    "\n",
    "# Verificar\n",
    "print(\"Regiones únicas:\", df['Region'].unique())\n",
    "print(\"Distribución de regiones:\\n\", df['Region'].value_counts())"
   ]
  },
  {
   "cell_type": "code",
   "execution_count": 159,
   "id": "3df478fe",
   "metadata": {},
   "outputs": [
    {
     "name": "stdout",
     "output_type": "stream",
     "text": [
      "Valores nulos:\n",
      " Freedom                      0\n",
      "Generosity                   0\n",
      "Happiness_Rank               0\n",
      "Country_or_region            0\n",
      "Perceptions_of_corruption    0\n",
      "GDP_per_capita               0\n",
      "Healthy_life_expectancy      0\n",
      "Happiness_Score              0\n",
      "Social_support               0\n",
      "Year                         0\n",
      "Economic_Health_Index        0\n",
      "Region                       0\n",
      "dtype: int64\n"
     ]
    }
   ],
   "source": [
    "null_values= df.isnull().sum()\n",
    "print(\"Valores nulos:\\n\", null_values)"
   ]
  },
  {
   "cell_type": "code",
   "execution_count": 160,
   "id": "2ac481dd",
   "metadata": {},
   "outputs": [],
   "source": [
    "df = df.drop(\"Country_or_region\", axis=1)\n"
   ]
  },
  {
   "cell_type": "code",
   "execution_count": 161,
   "id": "4dde2ca9",
   "metadata": {},
   "outputs": [
    {
     "data": {
      "text/html": [
       "<div>\n",
       "<style scoped>\n",
       "    .dataframe tbody tr th:only-of-type {\n",
       "        vertical-align: middle;\n",
       "    }\n",
       "\n",
       "    .dataframe tbody tr th {\n",
       "        vertical-align: top;\n",
       "    }\n",
       "\n",
       "    .dataframe thead th {\n",
       "        text-align: right;\n",
       "    }\n",
       "</style>\n",
       "<table border=\"1\" class=\"dataframe\">\n",
       "  <thead>\n",
       "    <tr style=\"text-align: right;\">\n",
       "      <th></th>\n",
       "      <th>Freedom</th>\n",
       "      <th>Generosity</th>\n",
       "      <th>Happiness_Rank</th>\n",
       "      <th>Perceptions_of_corruption</th>\n",
       "      <th>GDP_per_capita</th>\n",
       "      <th>Healthy_life_expectancy</th>\n",
       "      <th>Happiness_Score</th>\n",
       "      <th>Social_support</th>\n",
       "      <th>Year</th>\n",
       "      <th>Economic_Health_Index</th>\n",
       "      <th>Region</th>\n",
       "    </tr>\n",
       "  </thead>\n",
       "  <tbody>\n",
       "    <tr>\n",
       "      <th>0</th>\n",
       "      <td>0.66557</td>\n",
       "      <td>0.29678</td>\n",
       "      <td>1</td>\n",
       "      <td>0.41978</td>\n",
       "      <td>1.39651</td>\n",
       "      <td>0.94143</td>\n",
       "      <td>7.587</td>\n",
       "      <td>1.34951</td>\n",
       "      <td>2015</td>\n",
       "      <td>1.772106</td>\n",
       "      <td>Western Europe</td>\n",
       "    </tr>\n",
       "    <tr>\n",
       "      <th>1</th>\n",
       "      <td>0.62877</td>\n",
       "      <td>0.43630</td>\n",
       "      <td>2</td>\n",
       "      <td>0.14145</td>\n",
       "      <td>1.30232</td>\n",
       "      <td>0.94784</td>\n",
       "      <td>7.561</td>\n",
       "      <td>1.40223</td>\n",
       "      <td>2015</td>\n",
       "      <td>1.626761</td>\n",
       "      <td>Western Europe</td>\n",
       "    </tr>\n",
       "    <tr>\n",
       "      <th>2</th>\n",
       "      <td>0.64938</td>\n",
       "      <td>0.34139</td>\n",
       "      <td>3</td>\n",
       "      <td>0.48357</td>\n",
       "      <td>1.32548</td>\n",
       "      <td>0.87464</td>\n",
       "      <td>7.527</td>\n",
       "      <td>1.36058</td>\n",
       "      <td>2015</td>\n",
       "      <td>1.458406</td>\n",
       "      <td>Western Europe</td>\n",
       "    </tr>\n",
       "    <tr>\n",
       "      <th>3</th>\n",
       "      <td>0.66973</td>\n",
       "      <td>0.34699</td>\n",
       "      <td>4</td>\n",
       "      <td>0.36503</td>\n",
       "      <td>1.45900</td>\n",
       "      <td>0.88521</td>\n",
       "      <td>7.522</td>\n",
       "      <td>1.33095</td>\n",
       "      <td>2015</td>\n",
       "      <td>1.720453</td>\n",
       "      <td>Western Europe</td>\n",
       "    </tr>\n",
       "    <tr>\n",
       "      <th>4</th>\n",
       "      <td>0.63297</td>\n",
       "      <td>0.45811</td>\n",
       "      <td>5</td>\n",
       "      <td>0.32957</td>\n",
       "      <td>1.32629</td>\n",
       "      <td>0.90563</td>\n",
       "      <td>7.427</td>\n",
       "      <td>1.32261</td>\n",
       "      <td>2015</td>\n",
       "      <td>1.548120</td>\n",
       "      <td>North America</td>\n",
       "    </tr>\n",
       "  </tbody>\n",
       "</table>\n",
       "</div>"
      ],
      "text/plain": [
       "   Freedom  Generosity  Happiness_Rank  Perceptions_of_corruption  \\\n",
       "0  0.66557     0.29678               1                    0.41978   \n",
       "1  0.62877     0.43630               2                    0.14145   \n",
       "2  0.64938     0.34139               3                    0.48357   \n",
       "3  0.66973     0.34699               4                    0.36503   \n",
       "4  0.63297     0.45811               5                    0.32957   \n",
       "\n",
       "   GDP_per_capita  Healthy_life_expectancy  Happiness_Score  Social_support  \\\n",
       "0         1.39651                  0.94143            7.587         1.34951   \n",
       "1         1.30232                  0.94784            7.561         1.40223   \n",
       "2         1.32548                  0.87464            7.527         1.36058   \n",
       "3         1.45900                  0.88521            7.522         1.33095   \n",
       "4         1.32629                  0.90563            7.427         1.32261   \n",
       "\n",
       "   Year  Economic_Health_Index          Region  \n",
       "0  2015               1.772106  Western Europe  \n",
       "1  2015               1.626761  Western Europe  \n",
       "2  2015               1.458406  Western Europe  \n",
       "3  2015               1.720453  Western Europe  \n",
       "4  2015               1.548120   North America  "
      ]
     },
     "execution_count": 161,
     "metadata": {},
     "output_type": "execute_result"
    }
   ],
   "source": [
    "df.head()"
   ]
  },
  {
   "cell_type": "markdown",
   "id": "a1381ef6",
   "metadata": {},
   "source": [
    "### Codificar Region con One-Hot Encoding"
   ]
  },
  {
   "cell_type": "code",
   "execution_count": 162,
   "id": "78068a00",
   "metadata": {},
   "outputs": [
    {
     "name": "stdout",
     "output_type": "stream",
     "text": [
      "Categóricas codificadas con One-Hot Encoding: ['Region', 'Year']\n"
     ]
    }
   ],
   "source": [
    "categorical_cols = ['Region', 'Year']\n",
    "# Filtramos solo las columnas que existen en el DataFrame\n",
    "columns_to_encode = [col for col in categorical_cols if col in df.columns]\n",
    "\n",
    "# Usamos get_dummies con los prefijos correctamente asignados\n",
    "df = pd.get_dummies(df, columns=columns_to_encode, \n",
    "                    prefix=[f'Region_{col}' if col == 'Region' else \n",
    "                            f'_{col}' for col in columns_to_encode])\n",
    "\n",
    "print(\"Categóricas codificadas con One-Hot Encoding:\", columns_to_encode)"
   ]
  },
  {
   "cell_type": "code",
   "execution_count": 163,
   "id": "e93ff613",
   "metadata": {},
   "outputs": [
    {
     "data": {
      "text/html": [
       "<div>\n",
       "<style scoped>\n",
       "    .dataframe tbody tr th:only-of-type {\n",
       "        vertical-align: middle;\n",
       "    }\n",
       "\n",
       "    .dataframe tbody tr th {\n",
       "        vertical-align: top;\n",
       "    }\n",
       "\n",
       "    .dataframe thead th {\n",
       "        text-align: right;\n",
       "    }\n",
       "</style>\n",
       "<table border=\"1\" class=\"dataframe\">\n",
       "  <thead>\n",
       "    <tr style=\"text-align: right;\">\n",
       "      <th></th>\n",
       "      <th>Freedom</th>\n",
       "      <th>Generosity</th>\n",
       "      <th>Happiness_Rank</th>\n",
       "      <th>Perceptions_of_corruption</th>\n",
       "      <th>GDP_per_capita</th>\n",
       "      <th>Healthy_life_expectancy</th>\n",
       "      <th>Happiness_Score</th>\n",
       "      <th>Social_support</th>\n",
       "      <th>Economic_Health_Index</th>\n",
       "      <th>Region_Region_Australia and New Zealand</th>\n",
       "      <th>...</th>\n",
       "      <th>Region_Region_North America</th>\n",
       "      <th>Region_Region_Southeastern Asia</th>\n",
       "      <th>Region_Region_Southern Asia</th>\n",
       "      <th>Region_Region_Sub-Saharan Africa</th>\n",
       "      <th>Region_Region_Western Europe</th>\n",
       "      <th>_Year_2015</th>\n",
       "      <th>_Year_2016</th>\n",
       "      <th>_Year_2017</th>\n",
       "      <th>_Year_2018</th>\n",
       "      <th>_Year_2019</th>\n",
       "    </tr>\n",
       "  </thead>\n",
       "  <tbody>\n",
       "    <tr>\n",
       "      <th>0</th>\n",
       "      <td>0.66557</td>\n",
       "      <td>0.29678</td>\n",
       "      <td>1</td>\n",
       "      <td>0.41978</td>\n",
       "      <td>1.39651</td>\n",
       "      <td>0.94143</td>\n",
       "      <td>7.587</td>\n",
       "      <td>1.34951</td>\n",
       "      <td>1.772106</td>\n",
       "      <td>False</td>\n",
       "      <td>...</td>\n",
       "      <td>False</td>\n",
       "      <td>False</td>\n",
       "      <td>False</td>\n",
       "      <td>False</td>\n",
       "      <td>True</td>\n",
       "      <td>True</td>\n",
       "      <td>False</td>\n",
       "      <td>False</td>\n",
       "      <td>False</td>\n",
       "      <td>False</td>\n",
       "    </tr>\n",
       "    <tr>\n",
       "      <th>1</th>\n",
       "      <td>0.62877</td>\n",
       "      <td>0.43630</td>\n",
       "      <td>2</td>\n",
       "      <td>0.14145</td>\n",
       "      <td>1.30232</td>\n",
       "      <td>0.94784</td>\n",
       "      <td>7.561</td>\n",
       "      <td>1.40223</td>\n",
       "      <td>1.626761</td>\n",
       "      <td>False</td>\n",
       "      <td>...</td>\n",
       "      <td>False</td>\n",
       "      <td>False</td>\n",
       "      <td>False</td>\n",
       "      <td>False</td>\n",
       "      <td>True</td>\n",
       "      <td>True</td>\n",
       "      <td>False</td>\n",
       "      <td>False</td>\n",
       "      <td>False</td>\n",
       "      <td>False</td>\n",
       "    </tr>\n",
       "    <tr>\n",
       "      <th>2</th>\n",
       "      <td>0.64938</td>\n",
       "      <td>0.34139</td>\n",
       "      <td>3</td>\n",
       "      <td>0.48357</td>\n",
       "      <td>1.32548</td>\n",
       "      <td>0.87464</td>\n",
       "      <td>7.527</td>\n",
       "      <td>1.36058</td>\n",
       "      <td>1.458406</td>\n",
       "      <td>False</td>\n",
       "      <td>...</td>\n",
       "      <td>False</td>\n",
       "      <td>False</td>\n",
       "      <td>False</td>\n",
       "      <td>False</td>\n",
       "      <td>True</td>\n",
       "      <td>True</td>\n",
       "      <td>False</td>\n",
       "      <td>False</td>\n",
       "      <td>False</td>\n",
       "      <td>False</td>\n",
       "    </tr>\n",
       "    <tr>\n",
       "      <th>3</th>\n",
       "      <td>0.66973</td>\n",
       "      <td>0.34699</td>\n",
       "      <td>4</td>\n",
       "      <td>0.36503</td>\n",
       "      <td>1.45900</td>\n",
       "      <td>0.88521</td>\n",
       "      <td>7.522</td>\n",
       "      <td>1.33095</td>\n",
       "      <td>1.720453</td>\n",
       "      <td>False</td>\n",
       "      <td>...</td>\n",
       "      <td>False</td>\n",
       "      <td>False</td>\n",
       "      <td>False</td>\n",
       "      <td>False</td>\n",
       "      <td>True</td>\n",
       "      <td>True</td>\n",
       "      <td>False</td>\n",
       "      <td>False</td>\n",
       "      <td>False</td>\n",
       "      <td>False</td>\n",
       "    </tr>\n",
       "    <tr>\n",
       "      <th>4</th>\n",
       "      <td>0.63297</td>\n",
       "      <td>0.45811</td>\n",
       "      <td>5</td>\n",
       "      <td>0.32957</td>\n",
       "      <td>1.32629</td>\n",
       "      <td>0.90563</td>\n",
       "      <td>7.427</td>\n",
       "      <td>1.32261</td>\n",
       "      <td>1.548120</td>\n",
       "      <td>False</td>\n",
       "      <td>...</td>\n",
       "      <td>True</td>\n",
       "      <td>False</td>\n",
       "      <td>False</td>\n",
       "      <td>False</td>\n",
       "      <td>False</td>\n",
       "      <td>True</td>\n",
       "      <td>False</td>\n",
       "      <td>False</td>\n",
       "      <td>False</td>\n",
       "      <td>False</td>\n",
       "    </tr>\n",
       "  </tbody>\n",
       "</table>\n",
       "<p>5 rows × 24 columns</p>\n",
       "</div>"
      ],
      "text/plain": [
       "   Freedom  Generosity  Happiness_Rank  Perceptions_of_corruption  \\\n",
       "0  0.66557     0.29678               1                    0.41978   \n",
       "1  0.62877     0.43630               2                    0.14145   \n",
       "2  0.64938     0.34139               3                    0.48357   \n",
       "3  0.66973     0.34699               4                    0.36503   \n",
       "4  0.63297     0.45811               5                    0.32957   \n",
       "\n",
       "   GDP_per_capita  Healthy_life_expectancy  Happiness_Score  Social_support  \\\n",
       "0         1.39651                  0.94143            7.587         1.34951   \n",
       "1         1.30232                  0.94784            7.561         1.40223   \n",
       "2         1.32548                  0.87464            7.527         1.36058   \n",
       "3         1.45900                  0.88521            7.522         1.33095   \n",
       "4         1.32629                  0.90563            7.427         1.32261   \n",
       "\n",
       "   Economic_Health_Index  Region_Region_Australia and New Zealand  ...  \\\n",
       "0               1.772106                                    False  ...   \n",
       "1               1.626761                                    False  ...   \n",
       "2               1.458406                                    False  ...   \n",
       "3               1.720453                                    False  ...   \n",
       "4               1.548120                                    False  ...   \n",
       "\n",
       "   Region_Region_North America  Region_Region_Southeastern Asia  \\\n",
       "0                        False                            False   \n",
       "1                        False                            False   \n",
       "2                        False                            False   \n",
       "3                        False                            False   \n",
       "4                         True                            False   \n",
       "\n",
       "   Region_Region_Southern Asia  Region_Region_Sub-Saharan Africa  \\\n",
       "0                        False                             False   \n",
       "1                        False                             False   \n",
       "2                        False                             False   \n",
       "3                        False                             False   \n",
       "4                        False                             False   \n",
       "\n",
       "   Region_Region_Western Europe  _Year_2015  _Year_2016  _Year_2017  \\\n",
       "0                          True        True       False       False   \n",
       "1                          True        True       False       False   \n",
       "2                          True        True       False       False   \n",
       "3                          True        True       False       False   \n",
       "4                         False        True       False       False   \n",
       "\n",
       "   _Year_2018  _Year_2019  \n",
       "0       False       False  \n",
       "1       False       False  \n",
       "2       False       False  \n",
       "3       False       False  \n",
       "4       False       False  \n",
       "\n",
       "[5 rows x 24 columns]"
      ]
     },
     "execution_count": 163,
     "metadata": {},
     "output_type": "execute_result"
    }
   ],
   "source": [
    "df.head()"
   ]
  },
  {
   "cell_type": "markdown",
   "id": "a1d8a1ef",
   "metadata": {},
   "source": [
    "### Codificar booleanas"
   ]
  },
  {
   "cell_type": "code",
   "execution_count": 358,
   "id": "4e9ceb16",
   "metadata": {},
   "outputs": [
    {
     "name": "stdout",
     "output_type": "stream",
     "text": [
      "Booleanas codificadas a enteros (1/0): ['Year_2015', 'Year_2016', 'Year_2017', 'Year_2018', 'Year_2019']\n"
     ]
    }
   ],
   "source": [
    "# Identificar todas las columnas booleanas\n",
    "boolean_cols = df.select_dtypes(include='bool').columns.tolist()\n",
    "\n",
    "# Convertirlas a enteros (0 y 1)\n",
    "df[boolean_cols] = df[boolean_cols].astype(int)\n",
    "\n",
    "print(\"Booleanas codificadas a enteros (1/0):\", boolean_cols)"
   ]
  },
  {
   "cell_type": "code",
   "execution_count": 359,
   "id": "7406958f",
   "metadata": {},
   "outputs": [
    {
     "name": "stdout",
     "output_type": "stream",
     "text": [
      "<class 'pandas.core.frame.DataFrame'>\n",
      "RangeIndex: 782 entries, 0 to 781\n",
      "Data columns (total 15 columns):\n",
      " #   Column                                        Non-Null Count  Dtype  \n",
      "---  ------                                        --------------  -----  \n",
      " 0   Economic_Health_Index                         782 non-null    float64\n",
      " 1   Social_support                                782 non-null    float64\n",
      " 2   Freedom                                       782 non-null    float64\n",
      " 3   Perceptions_of_corruption_boxcox              782 non-null    float64\n",
      " 4   Country_Avg_Happiness                         612 non-null    float64\n",
      " 5   Country_Avg_Perceptions_of_corruption_boxcox  612 non-null    float64\n",
      " 6   Region_Avg_Happiness                          772 non-null    float64\n",
      " 7   Region_Avg_Perceptions_of_corruption_boxcox   772 non-null    float64\n",
      " 8   Economic_Social_Interaction                   782 non-null    float64\n",
      " 9   Year_2015                                     782 non-null    int64  \n",
      " 10  Year_2016                                     782 non-null    int64  \n",
      " 11  Year_2017                                     782 non-null    int64  \n",
      " 12  Year_2018                                     782 non-null    int64  \n",
      " 13  Year_2019                                     782 non-null    int64  \n",
      " 14  Happiness_Score                               782 non-null    float64\n",
      "dtypes: float64(10), int64(5)\n",
      "memory usage: 91.8 KB\n"
     ]
    }
   ],
   "source": [
    "df.info()"
   ]
  },
  {
   "cell_type": "markdown",
   "id": "bf76fc33",
   "metadata": {},
   "source": [
    "### Eliminar columnas innecesarias "
   ]
  },
  {
   "cell_type": "code",
   "execution_count": 224,
   "id": "393db9bd",
   "metadata": {},
   "outputs": [],
   "source": [
    "df = df.drop(columns=[ 'Year_2015', 'Year_2016', 'Year_2017', 'Year_2018', 'Year_2019'])\n"
   ]
  },
  {
   "cell_type": "markdown",
   "id": "51bd0b57",
   "metadata": {},
   "source": [
    "### Guardar el dataset final"
   ]
  },
  {
   "cell_type": "code",
   "execution_count": 572,
   "id": "ffcbb704",
   "metadata": {},
   "outputs": [
    {
     "name": "stdout",
     "output_type": "stream",
     "text": [
      "\n",
      "Guardado en 'data/clean_dataset.csv'\n"
     ]
    }
   ],
   "source": [
    "df.to_csv('../data/clean_dataset.csv', index=False)\n",
    "print(\"\\nGuardado en 'data/clean_dataset.csv'\")"
   ]
  }
 ],
 "metadata": {
  "kernelspec": {
   "display_name": "venv",
   "language": "python",
   "name": "python3"
  },
  "language_info": {
   "codemirror_mode": {
    "name": "ipython",
    "version": 3
   },
   "file_extension": ".py",
   "mimetype": "text/x-python",
   "name": "python",
   "nbconvert_exporter": "python",
   "pygments_lexer": "ipython3",
   "version": "3.11.4"
  }
 },
 "nbformat": 4,
 "nbformat_minor": 5
}
